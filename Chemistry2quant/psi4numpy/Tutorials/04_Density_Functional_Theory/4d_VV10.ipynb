{
 "cells": [
  {
   "cell_type": "markdown",
   "metadata": {},
   "source": [
    "# VV10 Non-local correlation kernel\n",
    "One of the largest deficiencies with semilocal functionals is the lack of long-range correlation effects. This most notable expresses itself as the lack of disperssion in the interactions between molecules. VV10 was expressly created to bridge the gap between the expensive of true non-local correlation and a computational tractable form. We will begin by writing the overall expression:\n",
    "\n",
    "$$E_c^{\\rm{nl}} = \\frac{1}{2}\\int \\int d{\\bf r}d{\\bf r'}\\rho({\\bf r})\\Phi({\\bf r},{\\bf r'})\\rho({\\bf r'})$$\n",
    "\n",
    "Where the two densities are tied together through the $\\Phi$ operator.\n",
    "\n",
    "For VV10 we have:\n",
    "$$\n",
    "\\begin{align}\n",
    "\\Phi &= -\\frac{3}{2gg'(g + g')}\\\\\n",
    " g &= \\omega_0({\\rm r}) R^2 + \\kappa({\\rm r)}\\\\\n",
    " g' &= \\omega_0({\\rm r}) R^2 + \\kappa({\\rm r')}\n",
    "\\end{align}\n",
    "$$\n",
    "\n",
    "Where $w_{0}$:\n",
    "\n",
    "$$\n",
    "\\begin{align}\n",
    "\\omega_{0}(r) &= \\sqrt{\\omega_{g}^2(r) + \\frac{\\omega_p^2(r)}{3}} \\\\\n",
    "\\omega_g^2(r) &= C \\left | \\frac{\\nabla \\rho({\\bf r})}{\\rho({\\bf r})} \\right |^4 \\\\\n",
    "\\omega_p^2(r) &= 4 \\pi \\rho({\\bf r})\n",
    "\\end{align}\n",
    "$$\n",
    "\n",
    "and finally:\n",
    "\n",
    "$$\\kappa({\\bf r}) = b * \\frac{3 \\pi}{2} \\left [ \\frac{\\rho({\\bf r})}{9\\pi} \\right ]^\\frac{1}{6}$$\n",
    "\n",
    "While there are several expression, this is actually quite easy to compute. First let us examine how the VV10 energy is reintegrated:\n",
    "\n",
    "$$E_c^{\\rm{VV10}} = \\int d{\\bf r} \\rho{\\bf r} \\left [ \\beta + \\frac{1}{2}\\int d{\\bf r'} \\rho{\\bf r'} \\Phi({\\bf r},{\\bf r'}) \\right]$$\n",
    "\n"
   ]
  },
  {
   "cell_type": "code",
   "execution_count": 11,
   "metadata": {
    "collapsed": false
   },
   "outputs": [],
   "source": [
    "import psi4\n",
    "import numpy as np\n",
    "import ks_helper as ks\n",
    "\n",
    "mol = psi4.geometry(\"\"\"\n",
    "He 0 0 -5\n",
    "He 0 0  5\n",
    "symmetry c1\n",
    "\"\"\")\n",
    "options = {'BASIS':               'aug-cc-pVDZ',\n",
    "           'DFT_SPHERICAL_POINTS': 110,\n",
    "           'DFT_RADIAL_POINTS':    20}"
   ]
  },
  {
   "cell_type": "markdown",
   "metadata": {},
   "source": [
    "## VV10 coefficients\n",
    "First let us build set and build a few static coefficients:"
   ]
  },
  {
   "cell_type": "code",
   "execution_count": 5,
   "metadata": {
    "collapsed": true
   },
   "outputs": [],
   "source": [
    "coef_C = 0.0093\n",
    "coef_B = 5.9\n",
    "coef_beta = 1.0 / 32.0 * (3.0 / (coef_B ** 2.0)) ** (3.0 / 4.0)"
   ]
  },
  {
   "cell_type": "markdown",
   "metadata": {},
   "source": [
    "## VV10 kernel\n",
    "First let us construct a function that compute $\\omega_0$ and $\\kappa$ quantities. To make one piece simpler let us first examine a piece of $\\omega_g$:\n",
    "$$\\left |\\frac{\\nabla \\rho({\\bf r})}{\\rho({\\bf r})} \\right|^4$$\n",
    "\n",
    "quantity. Recall that \n",
    "\n",
    "$$\\gamma({\\bf r}) = \\nabla\\rho({\\bf r})\\cdot\\nabla\\rho({\\bf r})$$\n",
    "\n",
    "therefore, we can simplify the above to:\n",
    "\n",
    "$$\\frac{\\nabla \\rho({\\bf r})}{\\rho({\\bf r})} = \\left | \\frac{\\gamma({\\bf r})}{\\rho({\\bf r})\\cdot({\\bf r})} \\right | ^2 $$"
   ]
  },
  {
   "cell_type": "code",
   "execution_count": 6,
   "metadata": {
    "collapsed": true
   },
   "outputs": [],
   "source": [
    "def compute_vv10_kernel(rho, gamma):\n",
    "    kappa_pref = coef_B * (1.5 * np.pi) / ((9.0 * np.pi) ** (1.0 / 6.0))\n",
    "    \n",
    "    # Compute R quantities\n",
    "    Wp = (4.0 / 3.0) * np.pi * rho\n",
    "    Wg = coef_C * ((gamma / (rho * rho)) ** 2.0)\n",
    "    W0 = np.sqrt(Wg + Wp)\n",
    "    \n",
    "    kappa = rho ** (1.0 / 6.0) * kappa_pref\n",
    "    return W0, kappa"
   ]
  },
  {
   "cell_type": "markdown",
   "metadata": {},
   "source": [
    "## VV10 energy and gradient evaluation\n",
    "\n",
    "Yup so just integrate it out. Pretty easy."
   ]
  },
  {
   "cell_type": "code",
   "execution_count": 37,
   "metadata": {
    "collapsed": false
   },
   "outputs": [
    {
     "name": "stdout",
     "output_type": "stream",
     "text": [
      "\n",
      "Number of occupied orbitals: 2\n",
      "Number of basis functions:   18\n",
      "\n",
      "Total time taken for setup: 0.097 seconds\n",
      "\n",
      "Starting SCF iterations:\n",
      "\n",
      "    Iter            Energy             XC E         Delta E        D RMS\n",
      "\n",
      "   VV10 NL energy:       0.01904486\n",
      "SCF Iter  1:  -5.58360292280094    -2.5904636   -5.58360E+00   3.85770E-02\n",
      "   VV10 NL energy:       0.01866876\n",
      "SCF Iter  2:  -5.77604858287614    -1.9478627   -1.92446E-01   1.64180E-02\n",
      "   VV10 NL energy:       0.01880748\n",
      "SCF Iter  3:  -5.81991363244094    -2.1472560   -4.38650E-02   4.09661E-04\n",
      "   VV10 NL energy:       0.01880430\n",
      "SCF Iter  4:  -5.81994198278402    -2.1423006   -2.83503E-05   2.03490E-06\n",
      "   VV10 NL energy:       0.01880430\n",
      "SCF Iter  5:  -5.81994198341545    -2.1423051   -6.31431E-10   2.69437E-07\n",
      "\n",
      "Total time for SCF iterations: 9.229 seconds \n",
      "\n",
      "Final SCF energy: -5.81994198 hartree\n"
     ]
    },
    {
     "data": {
      "text/plain": [
       "-5.819941983415454"
      ]
     },
     "execution_count": 37,
     "metadata": {},
     "output_type": "execute_result"
    }
   ],
   "source": [
    "def compute_vv10(D, Vpot):\n",
    "\n",
    "\n",
    "    nbf = D.shape[0]\n",
    "    Varr = np.zeros((nbf, nbf))\n",
    "    \n",
    "    total_e = 0.0\n",
    "    tD = 2.0 * np.array(D)\n",
    "    \n",
    "    points_func = Vpot.properties()[0]\n",
    "    superfunc = Vpot.functional()\n",
    "\n",
    "    xc_e = 0.0\n",
    "    vv10_e = 0.0\n",
    "    \n",
    "    # First loop over the outer set of blocks\n",
    "    for l_block in range(Vpot.nblocks()):\n",
    "        \n",
    "        # Obtain general grid information\n",
    "        l_grid = Vpot.get_block(l_block)\n",
    "        l_w = np.array(l_grid.w())\n",
    "        l_x = np.array(l_grid.x())\n",
    "        l_y = np.array(l_grid.y())\n",
    "        l_z = np.array(l_grid.z())\n",
    "        l_npoints = l_w.shape[0]\n",
    "\n",
    "        points_func.compute_points(l_grid)\n",
    "\n",
    "        \n",
    "        # Compute the functional itself\n",
    "        ret = superfunc.compute_functional(points_func.point_values(), -1)\n",
    "        \n",
    "        xc_e += np.vdot(l_w, np.array(ret[\"V\"])[:l_npoints])\n",
    "        v_rho = np.array(ret[\"V_RHO_A\"])[:l_npoints]\n",
    "        v_gamma = np.array(ret[\"V_GAMMA_AA\"])[:l_npoints]\n",
    "        \n",
    "        # Begin VV10 information\n",
    "        l_rho = np.array(points_func.point_values()[\"RHO_A\"])[:l_npoints]\n",
    "        l_gamma = np.array(points_func.point_values()[\"GAMMA_AA\"])[:l_npoints]\n",
    "        \n",
    "        l_W0, l_kappa = compute_vv10_kernel(l_rho, l_gamma)\n",
    "        \n",
    "        phi_kernel = np.zeros_like(l_rho)\n",
    "        phi_U = np.zeros_like(l_rho)\n",
    "        phi_W = np.zeros_like(l_rho)\n",
    "        \n",
    "        # Loop over the inner set of blocks\n",
    "        for r_block in range(Vpot.nblocks()):\n",
    "            \n",
    "            # Repeat as for the left blocks\n",
    "            r_grid = Vpot.get_block(r_block)\n",
    "            r_w = np.array(r_grid.w())\n",
    "            r_x = np.array(r_grid.x())\n",
    "            r_y = np.array(r_grid.y())\n",
    "            r_z = np.array(r_grid.z())\n",
    "            r_npoints = r_w.shape[0]\n",
    "\n",
    "            points_func.compute_points(r_grid)\n",
    "\n",
    "            r_rho = np.array(points_func.point_values()[\"RHO_A\"])[:r_npoints]\n",
    "            r_gamma = np.array(points_func.point_values()[\"GAMMA_AA\"])[:r_npoints]\n",
    "        \n",
    "            r_W0, r_kappa = compute_vv10_kernel(r_rho, r_gamma)\n",
    "            \n",
    "            # Build the distnace matrix\n",
    "            R2  = (l_x[:, None] - r_x) ** 2\n",
    "            R2 += (l_y[:, None] - r_y) ** 2\n",
    "            R2 += (l_z[:, None] - r_z) ** 2\n",
    "            \n",
    "            # Build g\n",
    "            g = l_W0[:, None] * R2 + l_kappa[:, None]\n",
    "            gp = r_W0 * R2 + r_kappa\n",
    "        \n",
    "            # \n",
    "            F_kernal = -1.5 * r_w * r_rho / (g * gp * (g + gp))\n",
    "            F_U = F_kernal * ((1.0 / g) + (1.0 / (g + gp)))\n",
    "            F_W = F_U * R2\n",
    "\n",
    "\n",
    "            phi_kernel += np.sum(F_kernal, axis=1)\n",
    "            phi_U += -np.sum(F_U, axis=1)\n",
    "            phi_W += -np.sum(F_W, axis=1)\n",
    "            \n",
    "        # Compute those derivatives\n",
    "        kappa_dn = l_kappa / (6.0 * l_rho)\n",
    "        w0_dgamma = coef_C * l_gamma / (l_W0 * l_rho ** 4.0)\n",
    "        w0_drho = 2.0 / l_W0 * (np.pi/3.0 - coef_C * np.power(l_gamma, 2.0) / (l_rho ** 5.0))\n",
    "\n",
    "        # Sum up the energy\n",
    "        vv10_e += np.sum(l_w * l_rho * (coef_beta + 0.5 * phi_kernel))\n",
    "\n",
    "        # Perturb the derivative quantities\n",
    "        v_rho += coef_beta + phi_kernel + l_rho * (kappa_dn * phi_U + w0_drho * phi_W)\n",
    "        v_rho *= 0.5\n",
    "        \n",
    "        v_gamma += l_rho * w0_dgamma * phi_W\n",
    "\n",
    "        # Recompute to l_grid\n",
    "        lpos = np.array(l_grid.functions_local_to_global())\n",
    "        points_func.compute_points(l_grid)\n",
    "        nfunctions = lpos.shape[0]\n",
    "        \n",
    "        # Integrate the LDA and GGA quantities\n",
    "        phi = np.array(points_func.basis_values()[\"PHI\"])[:l_npoints, :nfunctions]\n",
    "        phi_x = np.array(points_func.basis_values()[\"PHI_X\"])[:l_npoints, :nfunctions]\n",
    "        phi_y = np.array(points_func.basis_values()[\"PHI_Y\"])[:l_npoints, :nfunctions]\n",
    "        phi_z = np.array(points_func.basis_values()[\"PHI_Z\"])[:l_npoints, :nfunctions]\n",
    "        \n",
    "        # LDA\n",
    "        Vtmp = np.einsum('pb,p,p,pa->ab', phi, v_rho, l_w, phi)\n",
    "\n",
    "        # GGA\n",
    "        l_rho_x = np.array(points_func.point_values()[\"RHO_AX\"])[:l_npoints]\n",
    "        l_rho_y = np.array(points_func.point_values()[\"RHO_AY\"])[:l_npoints]\n",
    "        l_rho_z = np.array(points_func.point_values()[\"RHO_AZ\"])[:l_npoints]\n",
    "        \n",
    "        tmp_grid = 2.0 * l_w * v_gamma\n",
    "        Vtmp += np.einsum('pb,p,p,pa->ab', phi, tmp_grid, l_rho_x, phi_x)\n",
    "        Vtmp += np.einsum('pb,p,p,pa->ab', phi, tmp_grid, l_rho_y, phi_y)\n",
    "        Vtmp += np.einsum('pb,p,p,pa->ab', phi, tmp_grid, l_rho_z, phi_z)\n",
    "        \n",
    "        # Sum back to the correct place\n",
    "        Varr[(lpos[:, None], lpos)] += Vtmp + Vtmp.T\n",
    "        \n",
    "    print(\"   VV10 NL energy: %16.8f\" % vv10_e)\n",
    "        \n",
    "    xc_e += vv10_e\n",
    "    return xc_e, Varr\n",
    "\n",
    "ks.ks_solver(\"VV10\", mol, options, compute_vv10)       "
   ]
  },
  {
   "cell_type": "markdown",
   "metadata": {},
   "source": [
    "Refs:\n",
    " - Vydrov O. A.; Van Voorhis T., *J. Chem. Phys.*, **2010**, *133*, 244103"
   ]
  }
 ],
 "metadata": {
  "anaconda-cloud": {},
  "kernelspec": {
   "display_name": "Python [conda root]",
   "language": "python",
   "name": "conda-root-py"
  },
  "language_info": {
   "codemirror_mode": {
    "name": "ipython",
    "version": 3
   },
   "file_extension": ".py",
   "mimetype": "text/x-python",
   "name": "python",
   "nbconvert_exporter": "python",
   "pygments_lexer": "ipython3",
   "version": "3.5.2"
  }
 },
 "nbformat": 4,
 "nbformat_minor": 1
}
