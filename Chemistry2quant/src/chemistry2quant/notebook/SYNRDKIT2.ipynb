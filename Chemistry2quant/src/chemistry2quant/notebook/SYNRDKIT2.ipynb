{
 "cells": [
  {
   "cell_type": "code",
   "execution_count": 2,
   "metadata": {},
   "outputs": [
    {
     "ename": "AttributeError",
     "evalue": "module 'rdkit.RDConfig' has no attribute 'RDBaseDir'",
     "output_type": "error",
     "traceback": [
      "\u001b[0;31m---------------------------------------------------------------------------\u001b[0m",
      "\u001b[0;31mAttributeError\u001b[0m                            Traceback (most recent call last)",
      "\u001b[0;32m<ipython-input-2-010c9a8c9046>\u001b[0m in \u001b[0;36m<module>\u001b[0;34m\u001b[0m\n\u001b[1;32m      4\u001b[0m \u001b[0mref\u001b[0m \u001b[0;34m=\u001b[0m \u001b[0mChem\u001b[0m\u001b[0;34m.\u001b[0m\u001b[0mMolFromSmiles\u001b[0m\u001b[0;34m(\u001b[0m\u001b[0;34m'NC(=[NH2+])c1ccc(C[C@@H](NC(=O)CNS(=O)(=O)c2ccc3ccccc3c2)C(=O)N2CCCCC2)cc1'\u001b[0m\u001b[0;34m)\u001b[0m\u001b[0;34m\u001b[0m\u001b[0;34m\u001b[0m\u001b[0m\n\u001b[1;32m      5\u001b[0m \u001b[0;31m# The PDB conformations\u001b[0m\u001b[0;34m\u001b[0m\u001b[0;34m\u001b[0m\u001b[0;34m\u001b[0m\u001b[0m\n\u001b[0;32m----> 6\u001b[0;31m \u001b[0mmol1\u001b[0m \u001b[0;34m=\u001b[0m \u001b[0mChem\u001b[0m\u001b[0;34m.\u001b[0m\u001b[0mMolFromPDBFile\u001b[0m\u001b[0;34m(\u001b[0m\u001b[0mRDConfig\u001b[0m\u001b[0;34m.\u001b[0m\u001b[0mRDBaseDir\u001b[0m\u001b[0;34m+\u001b[0m\u001b[0;34m'/home/oohnohnoh1/Desktop/GIT/Chemiinformatics_work/rdkit/Chem/test_data/1DWD_ligand.pdb'\u001b[0m\u001b[0;34m)\u001b[0m\u001b[0;34m\u001b[0m\u001b[0;34m\u001b[0m\u001b[0m\n\u001b[0m\u001b[1;32m      7\u001b[0m \u001b[0mmol1\u001b[0m \u001b[0;34m=\u001b[0m \u001b[0mAllChem\u001b[0m\u001b[0;34m.\u001b[0m\u001b[0mAssignBondOrdersFromTemplate\u001b[0m\u001b[0;34m(\u001b[0m\u001b[0mref\u001b[0m\u001b[0;34m,\u001b[0m \u001b[0mmol1\u001b[0m\u001b[0;34m)\u001b[0m\u001b[0;34m\u001b[0m\u001b[0;34m\u001b[0m\u001b[0m\n\u001b[1;32m      8\u001b[0m \u001b[0mmol2\u001b[0m \u001b[0;34m=\u001b[0m \u001b[0mChem\u001b[0m\u001b[0;34m.\u001b[0m\u001b[0mMolFromPDBFile\u001b[0m\u001b[0;34m(\u001b[0m\u001b[0mRDConfig\u001b[0m\u001b[0;34m.\u001b[0m\u001b[0mRDBaseDir\u001b[0m\u001b[0;34m+\u001b[0m\u001b[0;34m'/home/oohnohnoh1/Desktop/GIT/Chemiinformatics_work/rdkit/Chem/test_data/1PPC_ligand.pdb'\u001b[0m\u001b[0;34m)\u001b[0m\u001b[0;34m\u001b[0m\u001b[0;34m\u001b[0m\u001b[0m\n",
      "\u001b[0;31mAttributeError\u001b[0m: module 'rdkit.RDConfig' has no attribute 'RDBaseDir'"
     ]
    }
   ],
   "source": [
    "from rdkit import Chem, RDConfig\n",
    "from rdkit.Chem import AllChem, rdMolAlign\n",
    "# The reference molecule\n",
    "ref = Chem.MolFromSmiles('NC(=[NH2+])c1ccc(C[C@@H](NC(=O)CNS(=O)(=O)c2ccc3ccccc3c2)C(=O)N2CCCCC2)cc1')\n",
    "# The PDB conformations\n",
    "mol1 = Chem.MolFromPDBFile(RDConfig.RDBaseDir+'/home/oohnohnoh1/Desktop/GIT/Chemiinformatics_work/rdkit/Chem/test_data/1DWD_ligand.pdb')\n",
    "mol1 = AllChem.AssignBondOrdersFromTemplate(ref, mol1)\n",
    "mol2 = Chem.MolFromPDBFile(RDConfig.RDBaseDir+'/home/oohnohnoh1/Desktop/GIT/Chemiinformatics_work/rdkit/Chem/test_data/1PPC_ligand.pdb')\n",
    "mol2 = AllChem.AssignBondOrdersFromTemplate(ref, mol2)\n",
    "# Align them\n",
    "rms = rdMolAlign.AlignMol(mol1, mol2)\n",
    "print(rms)\n",
    "# Align them with OPEN3DAlign\n",
    "pyO3A = rdMolAlign.GetO3A(mol1, mol2)\n",
    "score = pyO3A.Align()\n",
    "print(score)\n"
   ]
  },
  {
   "cell_type": "code",
   "execution_count": null,
   "metadata": {},
   "outputs": [],
   "source": []
  }
 ],
 "metadata": {
  "kernelspec": {
   "display_name": "Python 3",
   "language": "python",
   "name": "python3"
  },
  "language_info": {
   "codemirror_mode": {
    "name": "ipython",
    "version": 3
   },
   "file_extension": ".py",
   "mimetype": "text/x-python",
   "name": "python",
   "nbconvert_exporter": "python",
   "pygments_lexer": "ipython3",
   "version": "3.6.8"
  }
 },
 "nbformat": 4,
 "nbformat_minor": 2
}
