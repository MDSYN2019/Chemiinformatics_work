{
 "cells": [
  {
   "cell_type": "markdown",
   "metadata": {},
   "source": [
    "# Chemical Space\n"
   ]
  },
  {
   "cell_type": "markdown",
   "metadata": {},
   "source": [
    "Chemical space refers to arrangements of compounds in an n-dimensional space at some scale. In general, \n",
    "two or three dimensions are often used (for human understanding). Although various methods have been proposed \n",
    "for the scale i.e. similarity, it is often decided that a distance that well characterizes compound is defined\n"
   ]
  },
  {
   "cell_type": "markdown",
   "metadata": {},
   "source": [
    "This time, we will visualize which pharmaceutical company is developing what kind of compound for the antagonist \n",
    "of Orexin Receptor, which is known as a target for sleep medicine. "
   ]
  },
  {
   "cell_type": "code",
   "execution_count": 6,
   "metadata": {},
   "outputs": [],
   "source": [
    "from rdkit import Chem, DataStructs\n",
    "from rdkit.Chem import AllChem, Draw\n",
    "import numpy as np\n",
    "import pandas as pd\n",
    "#from ggplot import *\n",
    "import seaborn as sns\n",
    "from sklearn.decomposition import PCA\n",
    "import os"
   ]
  },
  {
   "cell_type": "code",
   "execution_count": 2,
   "metadata": {},
   "outputs": [],
   "source": [
    "oxrs = [(\"CHEMBL3098111\", \"Merck\" ),(\"CHEMBL3867477\", \"Merck\" ),\n",
    "(\"CHEMBL2380240\", \"Rottapharm\" ),(\"CHEMBL3352684\", \"Merck\" ),\n",
    "(\"CHEMBL3769367\", \"Merck\" ),(\"CHEMBL3526050\", \"Actelion\" ),\n",
    "(\"CHEMBL3112474\", \"Actelion\" ),(\"CHEMBL3739366\", \"Heptares\" ),\n",
    "(\"CHEMBL3739395\", \"Actelion\" ), (\"CHEMBL3351489\", \"Eisai\" )]"
   ]
  },
  {
   "cell_type": "code",
   "execution_count": 14,
   "metadata": {},
   "outputs": [],
   "source": [
    "fps = []\n",
    "docs = []\n",
    "companies = []\n",
    "\n",
    "for cid,company in oxrs:\n",
    "    sdf_file = os.path.join('/home/oohnohnoh1/Desktop/GIT/Chemiinformatics_work/py4chemoinformatics/notebooks/ch08/' +  cid + '.sdf')\n",
    "    mols = Chem.SDMolSupplier(sdf_file)\n",
    "    for mol in mols:\n",
    "        if mol is not None:\n",
    "            fp = AllChem.GetMorganFingerprintAsBitVect(mol,2)\n",
    "            "
   ]
  },
  {
   "cell_type": "code",
   "execution_count": 8,
   "metadata": {},
   "outputs": [
    {
     "data": {
      "text/plain": [
       "'/home/oohnohnoh1/Desktop/GIT/Chemiinformatics_work/py4chemoinformatics/notebooks/ch08CHEMBL3351489.sdf'"
      ]
     },
     "execution_count": 8,
     "metadata": {},
     "output_type": "execute_result"
    }
   ],
   "source": []
  },
  {
   "cell_type": "code",
   "execution_count": null,
   "metadata": {},
   "outputs": [],
   "source": []
  }
 ],
 "metadata": {
  "kernelspec": {
   "display_name": "Python 3",
   "language": "python",
   "name": "python3"
  },
  "language_info": {
   "codemirror_mode": {
    "name": "ipython",
    "version": 3
   },
   "file_extension": ".py",
   "mimetype": "text/x-python",
   "name": "python",
   "nbconvert_exporter": "python",
   "pygments_lexer": "ipython3",
   "version": "3.6.7"
  }
 },
 "nbformat": 4,
 "nbformat_minor": 2
}
