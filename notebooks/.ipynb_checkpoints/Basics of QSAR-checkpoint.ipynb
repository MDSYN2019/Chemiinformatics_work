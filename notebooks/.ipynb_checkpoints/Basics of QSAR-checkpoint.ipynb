{
 "cells": [
  {
   "cell_type": "markdown",
   "metadata": {},
   "source": [
    "The correlation between chemical structure and biological activity is called Structure Activity Relationshop (SAR) \n",
    "or Quantitive SAR (QSAR). In general similar compounds are known to exhibit similar biological activities, and it is very important in drug discovery research to understand this correlation and apply it to drug design.\n",
    "\n",
    "In addition, there are two types of problems such as classification problems to estimate which class a compound belongs to, such as cell death or toxicity, and regression problems to estimate continuous values such as % inhibition\n"
   ]
  },
  {
   "cell_type": "code",
   "execution_count": null,
   "metadata": {},
   "outputs": [],
   "source": [
    "from rdkit import Chem, DataStructs\n",
    "from rdkit.Chem import AllChem, Draw\n",
    "from rdkit.Chem.Draw import IPythonConsole\n",
    "import numpy as np\n",
    "from sklearn.model_selection import train_test_split\n",
    "from sklearn.metrics import confusion_matrix, f1_score\n",
    "from sklearn.ensemble import RandomForestClassifier\n",
    "\n",
    "from tensorflow.python.keras.layers import Iput\n",
    "from tensorflow.python.keras.layers import Dense\n",
    "from tensorflow.python.keras.layers import Dropout\n",
    "from tensorflow.python.keras.layers import Activation\n",
    "from tensorflow.python.keras.Model import Model"
   ]
  },
  {
   "cell_type": "code",
   "execution_count": 2,
   "metadata": {},
   "outputs": [
    {
     "name": "stdout",
     "output_type": "stream",
     "text": [
      "0 CMPD_CHEMBLID\n",
      "1 MOLREGNO\n",
      "2 PARENT_CMPD_CHEMBLID\n",
      "3 PARENT_MOLREGNO\n",
      "4 MOL_PREF_NAME\n",
      "5 COMPOUND_KEY\n",
      "6 MOLWEIGHT\n",
      "7 ALOGP\n",
      "8 PSA\n",
      "9 NUM_RO5_VIOLATIONS\n",
      "10 CANONICAL_SMILES\n",
      "11 ACTIVITY_ID\n",
      "12 STANDARD_TYPE\n",
      "13 RELATION\n",
      "14 STANDARD_VALUE\n",
      "15 STANDARD_UNITS\n",
      "16 PCHEMBL_VALUE\n",
      "17 PUBLISHED_TYPE\n",
      "18 PUBLISHED_RELATION\n",
      "19 PUBLISHED_VALUE\n",
      "20 PUBLISHED_UNITS\n",
      "21 ACTIVITY_COMMENT\n",
      "22 DATA_VALIDITY_COMMENT\n",
      "23 POTENTIAL_DUPLICATE\n",
      "24 BAO_ENDPOINT\n",
      "25 UO_UNITS\n",
      "26 QUDT_UNITS\n",
      "27 ASSAY_ID\n",
      "28 ASSAY_CHEMBLID\n",
      "29 ASSAY_TYPE\n",
      "30 DESCRIPTION\n",
      "31 ASSAY_SRC_ID\n",
      "32 ASSAY_SRC_DESCRIPTION\n",
      "33 ASSAY_ORGANISM\n",
      "34 ASSAY_STRAIN\n",
      "35 ASSAY_TAX_ID\n",
      "36 CURATED_BY\n",
      "37 BAO_FORMAT\n",
      "38 TID\n",
      "39 TARGET_CHEMBLID\n",
      "40 TARGET_TYPE\n",
      "41 PROTEIN_ACCESSION\n",
      "42 PREF_NAME\n",
      "43 ORGANISM\n",
      "44 CONFIDENCE_SCORE\n",
      "45 TARGET_MAPPING\n",
      "46 APD_NAME\n",
      "47 APD_CONFIDENCE\n",
      "48 DOC_ID\n",
      "49 DOC_CHEMBLID\n",
      "50 PUBMED_ID\n",
      "51 JOURNAL\n",
      "52 YEAR\n",
      "53 VOLUME\n",
      "54 ISSUE\n",
      "55 FIRST_PAGE\n",
      "56 CELL_ID\n",
      "57 CELL_CHEMBL_ID\n",
      "58 CELL_NAME\n",
      "59 ACTIVITY_PARAMS\n",
      "60 ACTIVITY_PROPS\n",
      "\n"
     ]
    }
   ],
   "source": [
    "mols = []\n",
    "labels = []\n",
    "with open('/home/oohnohnoh1/Desktop/GIT/Chemiinformatics_work/py4chemoinformatics/notebooks/ch09_compounds.txt') as f:\n",
    "    header = f.readline()\n",
    "    smiles_index = -1\n",
    "    for i, title in enumerate(header.split(\"\\t\")):\n",
    "        if title == \"CANONICAL_SMILES\":\n",
    "            smiles_index = i\n",
    "        elif title == \"STANDARD_VALUE\":\n",
    "            value_index = i\n",
    "        print (i, title)    \n",
    "    for l in f:\n",
    "        ls = l.split(\"\\t\")\n",
    "        mol = Chem.MolFromSmiles(ls[smiles_index])\n",
    "        mols.append(mol)\n",
    "        val = float(ls[value_index])\n",
    "        if val < 1000:\n",
    "            labels.append('POS')\n",
    "        else:\n",
    "            labels.append('NEG')\n",
    "            \n",
    "labels = np.array(labels)"
   ]
  },
  {
   "cell_type": "code",
   "execution_count": 3,
   "metadata": {},
   "outputs": [
    {
     "data": {
      "text/plain": [
       "'CMPD_CHEMBLID\\tMOLREGNO\\tPARENT_CMPD_CHEMBLID\\tPARENT_MOLREGNO\\tMOL_PREF_NAME\\tCOMPOUND_KEY\\tMOLWEIGHT\\tALOGP\\tPSA\\tNUM_RO5_VIOLATIONS\\tCANONICAL_SMILES\\tACTIVITY_ID\\tSTANDARD_TYPE\\tRELATION\\tSTANDARD_VALUE\\tSTANDARD_UNITS\\tPCHEMBL_VALUE\\tPUBLISHED_TYPE\\tPUBLISHED_RELATION\\tPUBLISHED_VALUE\\tPUBLISHED_UNITS\\tACTIVITY_COMMENT\\tDATA_VALIDITY_COMMENT\\tPOTENTIAL_DUPLICATE\\tBAO_ENDPOINT\\tUO_UNITS\\tQUDT_UNITS\\tASSAY_ID\\tASSAY_CHEMBLID\\tASSAY_TYPE\\tDESCRIPTION\\tASSAY_SRC_ID\\tASSAY_SRC_DESCRIPTION\\tASSAY_ORGANISM\\tASSAY_STRAIN\\tASSAY_TAX_ID\\tCURATED_BY\\tBAO_FORMAT\\tTID\\tTARGET_CHEMBLID\\tTARGET_TYPE\\tPROTEIN_ACCESSION\\tPREF_NAME\\tORGANISM\\tCONFIDENCE_SCORE\\tTARGET_MAPPING\\tAPD_NAME\\tAPD_CONFIDENCE\\tDOC_ID\\tDOC_CHEMBLID\\tPUBMED_ID\\tJOURNAL\\tYEAR\\tVOLUME\\tISSUE\\tFIRST_PAGE\\tCELL_ID\\tCELL_CHEMBL_ID\\tCELL_NAME\\tACTIVITY_PARAMS\\tACTIVITY_PROPS\\n'"
      ]
     },
     "execution_count": 3,
     "metadata": {},
     "output_type": "execute_result"
    }
   ],
   "source": [
    "header"
   ]
  },
  {
   "cell_type": "code",
   "execution_count": 7,
   "metadata": {},
   "outputs": [
    {
     "data": {
      "text/plain": [
       "[array([0., 0., 0., ..., 0., 0., 0.]),\n",
       " array([0., 0., 0., ..., 0., 0., 0.]),\n",
       " array([0., 0., 0., ..., 0., 0., 0.]),\n",
       " array([0., 0., 0., ..., 0., 0., 0.]),\n",
       " array([0., 0., 0., ..., 0., 0., 0.]),\n",
       " array([0., 0., 0., ..., 0., 0., 0.]),\n",
       " array([0., 0., 0., ..., 0., 0., 0.]),\n",
       " array([0., 0., 0., ..., 0., 0., 0.]),\n",
       " array([0., 0., 0., ..., 0., 0., 0.]),\n",
       " array([0., 0., 0., ..., 0., 0., 0.]),\n",
       " array([0., 1., 0., ..., 0., 0., 0.]),\n",
       " array([0., 0., 0., ..., 1., 0., 0.]),\n",
       " array([0., 0., 0., ..., 0., 0., 0.]),\n",
       " array([0., 0., 1., ..., 0., 0., 0.]),\n",
       " array([0., 0., 0., ..., 0., 0., 0.]),\n",
       " array([0., 0., 0., ..., 0., 0., 0.]),\n",
       " array([0., 0., 0., ..., 0., 0., 0.]),\n",
       " array([0., 0., 0., ..., 0., 0., 0.]),\n",
       " array([0., 1., 0., ..., 0., 0., 0.]),\n",
       " array([0., 0., 0., ..., 0., 0., 0.]),\n",
       " array([0., 0., 0., ..., 0., 0., 0.]),\n",
       " array([0., 0., 0., ..., 0., 0., 0.]),\n",
       " array([0., 1., 0., ..., 0., 0., 0.]),\n",
       " array([0., 0., 0., ..., 0., 0., 0.]),\n",
       " array([0., 1., 0., ..., 0., 0., 0.]),\n",
       " array([0., 0., 0., ..., 0., 0., 0.]),\n",
       " array([0., 1., 0., ..., 0., 0., 0.]),\n",
       " array([0., 0., 0., ..., 0., 0., 0.]),\n",
       " array([0., 1., 0., ..., 0., 0., 0.]),\n",
       " array([0., 1., 0., ..., 0., 0., 0.]),\n",
       " array([0., 0., 1., ..., 0., 0., 0.]),\n",
       " array([0., 0., 0., ..., 1., 0., 0.]),\n",
       " array([0., 1., 0., ..., 0., 0., 0.]),\n",
       " array([0., 1., 0., ..., 0., 0., 0.]),\n",
       " array([0., 0., 0., ..., 0., 0., 0.]),\n",
       " array([0., 1., 0., ..., 0., 0., 0.]),\n",
       " array([0., 0., 0., ..., 1., 0., 0.]),\n",
       " array([0., 1., 0., ..., 0., 0., 0.]),\n",
       " array([0., 0., 0., ..., 1., 0., 0.]),\n",
       " array([0., 0., 0., ..., 0., 0., 0.]),\n",
       " array([0., 0., 0., ..., 0., 0., 0.]),\n",
       " array([0., 0., 0., ..., 0., 0., 0.]),\n",
       " array([0., 1., 0., ..., 0., 0., 0.]),\n",
       " array([0., 0., 0., ..., 0., 0., 0.]),\n",
       " array([0., 0., 0., ..., 0., 0., 0.]),\n",
       " array([0., 1., 0., ..., 0., 0., 0.]),\n",
       " array([0., 0., 0., ..., 0., 0., 0.]),\n",
       " array([0., 1., 0., ..., 0., 0., 0.]),\n",
       " array([0., 0., 0., ..., 0., 0., 0.]),\n",
       " array([0., 0., 0., ..., 0., 0., 0.]),\n",
       " array([0., 0., 0., ..., 0., 0., 0.]),\n",
       " array([0., 1., 0., ..., 0., 1., 0.]),\n",
       " array([0., 0., 0., ..., 0., 0., 0.]),\n",
       " array([0., 1., 0., ..., 0., 0., 0.]),\n",
       " array([0., 1., 0., ..., 0., 0., 0.]),\n",
       " array([0., 0., 0., ..., 0., 0., 0.]),\n",
       " array([0., 1., 0., ..., 0., 0., 0.]),\n",
       " array([0., 1., 0., ..., 0., 0., 0.]),\n",
       " array([0., 0., 0., ..., 0., 0., 0.]),\n",
       " array([0., 0., 0., ..., 0., 0., 0.]),\n",
       " array([0., 0., 0., ..., 0., 0., 0.]),\n",
       " array([0., 1., 0., ..., 0., 0., 0.]),\n",
       " array([0., 0., 0., ..., 0., 0., 0.]),\n",
       " array([0., 0., 0., ..., 0., 0., 0.]),\n",
       " array([0., 0., 0., ..., 0., 0., 0.]),\n",
       " array([0., 0., 0., ..., 0., 0., 0.]),\n",
       " array([0., 1., 0., ..., 0., 0., 0.]),\n",
       " array([0., 1., 0., ..., 1., 0., 0.]),\n",
       " array([0., 0., 0., ..., 0., 0., 0.]),\n",
       " array([0., 0., 0., ..., 0., 0., 0.]),\n",
       " array([0., 0., 0., ..., 0., 1., 0.]),\n",
       " array([0., 0., 0., ..., 0., 0., 0.]),\n",
       " array([0., 0., 0., ..., 0., 0., 0.])]"
      ]
     },
     "execution_count": 7,
     "metadata": {},
     "output_type": "execute_result"
    }
   ],
   "source": [
    "fps = [] # Fingerprints\n",
    "for mol in mols:\n",
    "    fp = AllChem.GetMorganFingerprintAsBitVect(mol, 2)\n",
    "    arr = np.zeros((1,))\n",
    "    DataStructs.ConvertToNumpyArray(fp, arr)\n",
    "    fps.append(arr)\n",
    "fps"
   ]
  },
  {
   "cell_type": "code",
   "execution_count": 8,
   "metadata": {},
   "outputs": [],
   "source": [
    "fps = np.array(fps) # Change the fingerprint to numpy array"
   ]
  },
  {
   "cell_type": "code",
   "execution_count": 9,
   "metadata": {},
   "outputs": [],
   "source": [
    "x_train, x_test, y_train, y_test = train_test_split(fps, labels)"
   ]
  },
  {
   "cell_type": "code",
   "execution_count": 10,
   "metadata": {},
   "outputs": [
    {
     "data": {
      "text/plain": [
       "array([[0., 1., 0., ..., 0., 0., 0.],\n",
       "       [0., 0., 0., ..., 0., 0., 0.],\n",
       "       [0., 0., 0., ..., 0., 0., 0.],\n",
       "       ...,\n",
       "       [0., 0., 0., ..., 1., 0., 0.],\n",
       "       [0., 1., 0., ..., 0., 0., 0.],\n",
       "       [0., 0., 0., ..., 0., 0., 0.]])"
      ]
     },
     "execution_count": 10,
     "metadata": {},
     "output_type": "execute_result"
    }
   ],
   "source": [
    "x_train"
   ]
  },
  {
   "cell_type": "code",
   "execution_count": 11,
   "metadata": {},
   "outputs": [
    {
     "data": {
      "text/plain": [
       "array([[0., 0., 0., ..., 0., 0., 0.],\n",
       "       [0., 0., 0., ..., 0., 0., 0.],\n",
       "       [0., 0., 0., ..., 0., 0., 0.],\n",
       "       ...,\n",
       "       [0., 0., 0., ..., 0., 0., 0.],\n",
       "       [0., 0., 0., ..., 0., 0., 0.],\n",
       "       [0., 0., 0., ..., 0., 0., 0.]])"
      ]
     },
     "execution_count": 11,
     "metadata": {},
     "output_type": "execute_result"
    }
   ],
   "source": [
    "x_test"
   ]
  },
  {
   "cell_type": "code",
   "execution_count": 12,
   "metadata": {},
   "outputs": [
    {
     "name": "stderr",
     "output_type": "stream",
     "text": [
      "/home/oohnohnoh1/anaconda3/lib/python3.6/site-packages/sklearn/ensemble/forest.py:246: FutureWarning: The default value of n_estimators will change from 10 in version 0.20 to 100 in 0.22.\n",
      "  \"10 in version 0.20 to 100 in 0.22.\", FutureWarning)\n"
     ]
    },
    {
     "data": {
      "text/plain": [
       "RandomForestClassifier(bootstrap=True, class_weight=None, criterion='gini',\n",
       "            max_depth=None, max_features='auto', max_leaf_nodes=None,\n",
       "            min_impurity_decrease=0.0, min_impurity_split=None,\n",
       "            min_samples_leaf=1, min_samples_split=2,\n",
       "            min_weight_fraction_leaf=0.0, n_estimators=10, n_jobs=None,\n",
       "            oob_score=False, random_state=None, verbose=0,\n",
       "            warm_start=False)"
      ]
     },
     "execution_count": 12,
     "metadata": {},
     "output_type": "execute_result"
    }
   ],
   "source": [
    "rf = RandomForestClassifier()\n",
    "rf.fit(x_train, y_train)"
   ]
  },
  {
   "cell_type": "code",
   "execution_count": 13,
   "metadata": {},
   "outputs": [],
   "source": [
    "y_pred = rf.predict(x_test)"
   ]
  },
  {
   "cell_type": "code",
   "execution_count": 14,
   "metadata": {},
   "outputs": [
    {
     "data": {
      "text/plain": [
       "array(['NEG', 'NEG', 'NEG', 'NEG', 'NEG', 'NEG', 'NEG', 'NEG', 'NEG',\n",
       "       'NEG', 'NEG', 'NEG', 'NEG', 'NEG', 'POS', 'NEG', 'POS', 'NEG',\n",
       "       'NEG'], dtype='<U3')"
      ]
     },
     "execution_count": 14,
     "metadata": {},
     "output_type": "execute_result"
    }
   ],
   "source": [
    "y_pred\n"
   ]
  },
  {
   "cell_type": "code",
   "execution_count": 15,
   "metadata": {},
   "outputs": [
    {
     "data": {
      "text/plain": [
       "array([[14,  0],\n",
       "       [ 3,  2]])"
      ]
     },
     "execution_count": 15,
     "metadata": {},
     "output_type": "execute_result"
    }
   ],
   "source": [
    "confusion_matrix(y_test, y_pred)"
   ]
  },
  {
   "cell_type": "code",
   "execution_count": 16,
   "metadata": {},
   "outputs": [
    {
     "data": {
      "text/plain": [
       "0.5714285714285715"
      ]
     },
     "execution_count": 16,
     "metadata": {},
     "output_type": "execute_result"
    }
   ],
   "source": [
    "f1_score(y_test, y_pred, pos_label=\"POS\")"
   ]
  },
  {
   "cell_type": "markdown",
   "metadata": {},
   "source": [
    "### Predict the efficacy of drugs (regression problem)"
   ]
  },
  {
   "cell_type": "markdown",
   "metadata": {},
   "source": [
    "Regression models, as discussed earlier, are models that predict continuous values. This time, create a regression model of RandomForest, and evaluate its accuracy with R2. Let's use the data from hERG's assay data used in classification problem. "
   ]
  },
  {
   "cell_type": "code",
   "execution_count": 17,
   "metadata": {},
   "outputs": [],
   "source": [
    "from sklearn.ensemble import RandomForestRegressor\n",
    "from sklearn.metrics import r2_score\n",
    "from math import log10\n"
   ]
  },
  {
   "cell_type": "code",
   "execution_count": 20,
   "metadata": {},
   "outputs": [],
   "source": [
    "pIC50s = []"
   ]
  },
  {
   "cell_type": "code",
   "execution_count": 24,
   "metadata": {},
   "outputs": [],
   "source": [
    "with open('/home/oohnohnoh1/Desktop/GIT/Chemiinformatics_work/py4chemoinformatics/notebooks/ch09_compounds.txt') as f:\n",
    "    header = f.readline()\n",
    "    for i, title in enumerate(header.split(\"\\t\")):\n",
    "        #print (i, title)\n",
    "        if title == \"STANDARD_VALUE\":\n",
    "            value_index = i \n",
    "    for l in f:\n",
    "        ls = l.split(\"\\t\")\n",
    "        #print (ls)\n",
    "        val = float(ls[value_index])\n",
    "        pIC50 = 9 - log10(val)\n",
    "        pIC50s.append(pIC50)\n",
    "pIC50s = np.array(pIC50s)"
   ]
  },
  {
   "cell_type": "code",
   "execution_count": 25,
   "metadata": {},
   "outputs": [
    {
     "data": {
      "text/plain": [
       "array([5.40000019, 4.30000003, 8.        , 8.        , 6.49000491,\n",
       "       5.4700002 , 5.82999953, 6.91998715, 5.        , 6.26000069,\n",
       "       8.        , 2.85      , 6.59999765, 6.81998888, 5.41000016,\n",
       "       5.        , 3.88999998, 4.30000003, 4.51999996, 3.52      ,\n",
       "       3.85999999, 5.48999954, 4.04000002, 6.71999105, 4.97999981,\n",
       "       6.7400002 , 7.79997073, 5.72000016, 6.49000491, 6.6999918 ,\n",
       "       4.92000016, 7.51999306, 5.83999993, 5.43000027, 6.09000028,\n",
       "       5.13999998, 3.04      , 5.0100001 , 7.48999149, 7.40000782,\n",
       "       4.22999997, 3.61      , 5.25000025, 4.75999996, 6.35999585,\n",
       "       4.56999997, 5.80000087, 6.85001154, 5.11999976, 5.86000134,\n",
       "       6.49000491, 7.29998894, 7.7000571 , 6.26000069, 5.82000036,\n",
       "       4.30000003, 5.66000032, 6.6999918 , 8.        , 5.7400002 ,\n",
       "       6.77001116, 4.68000003, 3.        , 5.        , 4.73999997,\n",
       "       5.48000016, 7.77006231, 5.52000025, 3.88999998, 4.04000002,\n",
       "       6.7900027 , 5.84999925, 3.02      , 5.40000019, 4.30000003,\n",
       "       8.        , 8.        , 6.49000491, 5.4700002 , 5.82999953,\n",
       "       6.91998715, 5.        , 6.26000069, 8.        , 2.85      ,\n",
       "       6.59999765, 6.81998888, 5.41000016, 5.        , 3.88999998,\n",
       "       4.30000003, 4.51999996, 3.52      , 3.85999999, 5.48999954,\n",
       "       4.04000002, 6.71999105, 4.97999981, 6.7400002 , 7.79997073,\n",
       "       5.72000016, 6.49000491, 6.6999918 , 4.92000016, 7.51999306,\n",
       "       5.83999993, 5.43000027, 6.09000028, 5.13999998, 3.04      ,\n",
       "       5.0100001 , 7.48999149, 7.40000782, 4.22999997, 3.61      ,\n",
       "       5.25000025, 4.75999996, 6.35999585, 4.56999997, 5.80000087,\n",
       "       6.85001154, 5.11999976, 5.86000134, 6.49000491, 7.29998894,\n",
       "       7.7000571 , 6.26000069, 5.82000036, 4.30000003, 5.66000032,\n",
       "       6.6999918 , 8.        , 5.7400002 , 6.77001116, 4.68000003,\n",
       "       3.        , 5.        , 4.73999997, 5.48000016, 7.77006231,\n",
       "       5.52000025, 3.88999998, 4.04000002, 6.7900027 , 5.84999925,\n",
       "       3.02      ])"
      ]
     },
     "execution_count": 25,
     "metadata": {},
     "output_type": "execute_result"
    }
   ],
   "source": [
    "pIC50s\n"
   ]
  },
  {
   "cell_type": "code",
   "execution_count": null,
   "metadata": {},
   "outputs": [],
   "source": []
  }
 ],
 "metadata": {
  "kernelspec": {
   "display_name": "Python 3",
   "language": "python",
   "name": "python3"
  },
  "language_info": {
   "codemirror_mode": {
    "name": "ipython",
    "version": 3
   },
   "file_extension": ".py",
   "mimetype": "text/x-python",
   "name": "python",
   "nbconvert_exporter": "python",
   "pygments_lexer": "ipython3",
   "version": "3.6.7"
  }
 },
 "nbformat": 4,
 "nbformat_minor": 2
}
