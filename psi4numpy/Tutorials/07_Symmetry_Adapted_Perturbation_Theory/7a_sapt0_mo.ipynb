{
 "cells": [
  {
   "cell_type": "code",
   "execution_count": null,
   "metadata": {
    "collapsed": true
   },
   "outputs": [],
   "source": [
    "\"\"\"Tutorial: Symmetry-Adapted Perturbation Theory (SAPT0)\"\"\"\n",
    "\n",
    "__author__    = [\"Daniel G. A. Smith\", \"Konrad Patkowski\"]\n",
    "__credit__    = [\"Daniel G. A. Smith\", \"Konrad Patkowski\"]\n",
    "\n",
    "__copyright__ = \"(c) 2014-2018, The Psi4NumPy Developers\"\n",
    "__license__   = \"BSD-3-Clause\"\n",
    "__date__      = \"2017-06-24\""
   ]
  },
  {
   "cell_type": "markdown",
   "metadata": {},
   "source": [
    "# Symmetry-Adapted Perturbation Theory (SAPT0)\n",
    "\n",
    "Symmetry-adapted perturbation theory (SAPT) is a perturbation theory aimed specifically at calculating the interaction energy between two molecules. Compared to the more conventional supermolecular approach where the interaction energy is computed as the difference between the electronic energy of the complex and the sum of electronic energies for the individual molecules (monomers), $E_{\\rm int}=E_{\\rm AB}-E_{\\rm A}-E_{\\rm B}$, SAPT obtains the interaction energy directly - no subtraction of similar terms is needed. Even more important, the result is obtained as a sum of separate corrections accounting for the electrostatic, induction, dispersion, and exchange contributions to interaction energy, so the SAPT decomposition facilitates the understanding and physical interpretation of results. \n",
    "In the wavefunction-based variant presented here [Jeziorski:1994], SAPT is actually a triple perturbation theory. The zeroth-order Hamiltonian is the sum of the monomer Fock operators, $H_0=F_{\\rm A}+F_{\\rm B}$, and the perturbation correction $E^{(nkl)}$ corresponds to $n$th, $k$th, and $l$th order effects, respectively, of the intermolecular interaction operator $V$, the monomer-A Moller-Plesset fluctuation potential $W_{\\rm A}=H_{\\rm A}-F_{\\rm A}$, and an analogous monomer-B potential $W_{\\rm B}$. Thus, the SAPT correction $E^{(nkl)}$ is of the $n$th order in the *intermolecular interaction* and of the $(k+l)$th order in the *intramolecular correlation*.\n",
    "In this example, we will calculate the interaction energy between two molecules at the simplest, SAPT0 level of theory [Parker:2014]. In SAPT0, intramolecular correlation is neglected, and intermolecular interaction is included through second order. Specifically,\n",
    "\n",
    "\\begin{equation}\n",
    "E_{\\rm int}^{\\rm SAPT0}=E^{(100)}_{\\rm elst}+E^{(100)}_{\\rm exch}+E^{(200)}_{\\rm ind,resp}+E^{(200)}_{\\rm exch-ind,resp}+E^{(200)}_{\\rm disp}+E^{(200)}_{\\rm exch-disp}\n",
    "\\end{equation}\n",
    "\n",
    "In this equation, the consecutive corrections account for the electrostatic, first-order exchange, induction, exchange induction, dispersion, and exchange dispersion effects, respectively. The additional subscript ``resp'' denotes that these corrections are computed including the monomer relaxation (response) effects at the coupled-perturbed Hartree-Fock (CPHF) level of theory.\n",
    "Before we proceed to the computation of the individual SAPT0 corrections, let us make two comments on the specifics of the calculation of the exchange corrections. The exchange terms stem from the symmetry adaptation, specifically, from the presence of the $(N_{\\rm A}+N_{\\rm B})$-electron antisymmetrizer ${\\cal A}$ that enforces the antisymmetry of the wavefunction upon an interchange of a pair of electrons between the monomers. Typically, the full operator ${\\cal A}$ in SAPT is approximated as ${\\cal A}=1+{\\cal P}$, where the *single-exchange operator* ${\\cal P}=\\sum_{a\\in {\\rm A}}\\sum_{b\\in {\\rm B}}P_{ab}$ collects all transpositions of a single pair of electrons between the interacting molecules. This approach is known as the *single exchange approximation* or the *$S^2$ approximation* --- the latter name refers to keeping terms that are quadratic in the intermolecular overlap integrals $S$ and neglecting terms that vanish like $S^4$, $S^6$, $\\ldots$. In Psi4,the $E^{(100)}_{\\rm exch}$ correction can be computed without the $S^2$ approximation, and the nonapproximated formulas for $E^{(200)}_{\\rm exch-ind,resp}$ and $E^{(200)}_{\\rm exch-disp}$ have also been derived [Schaffer:2013]. Nevertheless, in this example we will employ the $S^2$ approximation in all exchange corrections. Second, there exist two formalisms for the derivation of SAPT exchange corrections: the second-quantization approach [Moszynski:1994a] and the density matrix formalism [Moszynski:1994b]. The two methodologies lead to completely different SAPT expressions which, however, lead to identical results as long as the full dimer basis set is employed. Below, we will adopt the density formalism that is more general (valid in dimer and monomer basis sets) and exhibits more favorable computational scaling (however, more different types of two-electron integrals are required).\n"
   ]
  },
  {
   "cell_type": "markdown",
   "metadata": {},
   "source": [
    "# 1. Preparation of the matrix elements\n",
    "\n",
    "The expressions for SAPT0 corrections contain similar quantities as the ones for other correlated electronic structure theories: one- and two-electron integrals over molecular orbitals (MOs), Hartree-Fock (HF) orbital energies, and various amplitudes and intermediates. The feature unique to SAPT is that one has two sets of occupied and virtual (unoccupied) MOs, one for molecule A and one for molecule B (the MOs for the two molecules are not mutually orthogonal, and they may span the same one-electron space but do not have to do so). The most direct consequence of having two sets of MOs is a large number of different MO-basis two-electron integrals $(xy\\mid zw)$: each of the four indices can be an occupied orbital of A, a virtual orbital of A, an occupied orbital of B, or a virtual orbital of B. Even when we account for all possible index symmetries, a few dozen types of MO integrals are possible, and we need a code for the integral transformation from atomic orbitals (AOs) to MOs that can produce all of these types. This transformation, and a number of other useful routines, is present in the `helper_SAPT` module that one has to load at the beginning of the SAPT run.\n"
   ]
  },
  {
   "cell_type": "code",
   "execution_count": null,
   "metadata": {
    "collapsed": false
   },
   "outputs": [],
   "source": [
    "# A simple Psi 4 input script to compute SAPT interaction energies\n",
    "#\n",
    "# Created by: Daniel G. A. Smith\n",
    "# Date: 12/1/14\n",
    "# License: GPL v3.0\n",
    "#\n",
    "\n",
    "import time\n",
    "import numpy as np\n",
    "from helper_SAPT import *\n",
    "np.set_printoptions(precision=5, linewidth=200, threshold=2000, suppress=True)\n",
    "import psi4\n",
    "\n",
    "# Set Psi4 & NumPy Memory Options\n",
    "psi4.set_memory('2 GB')\n",
    "psi4.core.set_output_file('output.dat', False)\n",
    "\n",
    "numpy_memory = 2\n",
    "\n"
   ]
  },
  {
   "cell_type": "markdown",
   "metadata": {},
   "source": [
   "Next, we specify the geometry of the complex (in this example, it will be the water dimer). Note that we have to let Psi4 know which atoms belong to molecule A and which ones are molecule B. We then call the `helper_SAPT` function to initialize all quantities that will be needed for the SAPT corrections. In particular, the HF calculations will be performed for molecules A and B separately, and the two sets of orbital energies and MO coefficients will be waiting for SAPT to peruse.\n"
   ]
  },
  {
   "cell_type": "code",
   "execution_count": null,
   "metadata": {
    "collapsed": false
   },
   "outputs": [],
   "source": [
    "# Set molecule to dimer\n",
    "dimer = psi4.geometry(\"\"\"\n",
    "O   -0.066999140   0.000000000   1.494354740\n",
    "H    0.815734270   0.000000000   1.865866390\n",
    "H    0.068855100   0.000000000   0.539142770\n",
    "--\n",
    "O    0.062547750   0.000000000  -1.422632080\n",
    "H   -0.406965400  -0.760178410  -1.771744500\n",
    "H   -0.406965400   0.760178410  -1.771744500\n",
    "symmetry c1\n",
    "\"\"\")\n",
    "\n",
    "psi4.set_options({'basis': 'jun-cc-pVDZ',\n",
    "                  'e_convergence': 1e-8,\n",
    "                  'd_convergence': 1e-8})\n",
    "\n",
    "sapt = helper_SAPT(dimer, memory=8)\n"
   ]
  },
  {
   "cell_type": "markdown",
   "metadata": {},
   "source": [
   "Before we start computing the SAPT0 corrections, we still need to specify the pertinent notation and define the matrix elements that we will be requesting from `helper_SAPT`. In the classic SAPT papers [Rybak:1991], orbital indices $a,a',a'',\\ldots$ and $b,b',b'',\\ldots$ denote occupied orbitals of monomers A and B, respectively. The virtual orbitals of monomers A and B are denoted by $r,r',r'',\\ldots$ and $s,s',s'',\\ldots$, respectively. The overlap integral $S^x_y=\\langle x|\\rangle y$ reduces to a Kronecker delta when two orbitals from the same monomer are involved, for example, $S^a_{a'}=\\delta_{aa'}$, $S^a_r=0$, however, the intermolecular overlap integrals cannot be simplified in any general fashion. Any kind of overlap integral can be requested by calling `sapt.s`, for example, `sapt.s('ab')` gives the $S^a_b$ matrix. For the convenience of implementation, the one-electron (nuclear attraction) $(v_{\\rm X})^x_y$ (X = A or B) and nuclear repulsion $V_0$ contributions are usually folded into the two-electron integrals $v^{xy}_{zw}\\equiv (xz|yw)$ forming the *dressed* integrals $\\tilde{v}$:\n",
   "\n",
   "\\begin{equation}\n",
   "\\tilde{v}^{xy}_{zw}=v^{xy}_{zw}+(v_{\\rm A})^{y}_{w}S^{x}_{z}/N_{\\rm A}+(v_{\\rm B})^{x}_{z}S^{y}_{w}/N_{\\rm B}+V_0S^{x}_{z}S^{y}_{w}/N_{\\rm A}N_{\\rm B},\n",
   "\\end{equation}\n",
   "\n",
   "where $N_{\\rm X}$, X=A,B, is the number of electrons in monomer X. An arbitrary *dressed* integral $\\tilde{v}^{xy}_{zw}$ can be requested by calling `sapt.vt('xyzw')`. Finally, the HF orbital energy for either monomer can be obtained by calling `sapt.eps`; for example, `sapt.eps('r')` returns a 1D array of virtual orbital energies for monomer A.\n"
   ]
  },
  {
   "cell_type": "markdown",
   "metadata": {},
   "source": [
    "# 2. Electrostatic energy\n",
    "\n",
    "The SAPT0 electrostatic energy $E^{(100)}_{\\rm elst}$ is simply the expectation value of the intermolecular interaction operator $V$ over the zeroth-order wavefunction which is the product of HF determinants for monomers A and B. For the interaction of two closed-shell systems, this energy is obtained by a simple summation of *dressed* two-electron integrals over occupied orbitals of A and B:\n",
   "\n",
   "\\begin{equation}\n",
   "E^{(100)}_{\\rm elst}=4\\tilde{v}^{ab}_{ab}.\n",
   "\\end{equation}\n",
   "\n"
   ]
  },
  {
   "cell_type": "code",
   "execution_count": null,
   "metadata": {
    "collapsed": false
   },
   "outputs": [],
   "source": [
    "\n",
    "### Start E100 Electrostatics\n",
    "elst_timer = sapt_timer('electrostatics')\n",
    "Elst10 = 4 * np.einsum('abab', sapt.vt('abab'))\n",
    "elst_timer.stop()\n",
    "### End E100 Electrostatics\n",
    "\n"
   ]
  },
  {
   "cell_type": "markdown",
   "metadata": {},
   "source": [
    "# 3. First-order exchange energy\n",
    "\n",
    "The SAPT0 first-order exchange energy $E^{(100)}_{\\rm exch}$ within the $S^2$ approximation and the density matrix formalism is given by Eq. (40) of [Moszynski:1994b]:\n",
    "\n",
    "\\begin{align}\n",
    "E^{(100)}_{\\rm exch}=&-2\\left[\\tilde{v}^{ba}_{ab}+S^b_{a'}\\left(2\\tilde{v}^{aa'}_{ab}-\\tilde{v}^{a'a}_{ab}\\right)+S^{a}_{b'}\\left(2\\tilde{v}^{b'b}_{ab}-\\tilde{v}^{bb'}_{ab}\\right)\\right.\\\\ &\\left.-2S^b_{a'}S^{a'}_{b'}\\tilde{v}^{ab'}_{ab}-2S^{b'}_{a'}S^{a}_{b'}\\tilde{v}^{a'b}_{ab}+S^b_{a'}S^{a}_{b'}\\tilde{v}^{a'b'}_{ab}\\right]\n",
    "\\end{align}\n",
    "\n",
    "and involves several different types of *dressed* MO integrals as well as some intermolecular overlap integrals (not that all indices still pertain to occupied orbitals in this formalism). In Psi4NumPy, each tensor contraction in the above expression can be performed with a single `np.einsum` call:\n"
   ]
  },
  {
   "cell_type": "code",
   "execution_count": null,
   "metadata": {
    "collapsed": false
   },
   "outputs": [],
   "source": [
    "### Start E100 Exchange\n",
    "exch_timer = sapt_timer('exchange')\n",
    "vt_abba = sapt.vt('abba')\n",
    "vt_abaa = sapt.vt('abaa')\n",
    "vt_abbb = sapt.vt('abbb')\n",
    "vt_abab = sapt.vt('abab')\n",
    "s_ab = sapt.s('ab')\n",
    "\n",
    "Exch100 = np.einsum('abba', vt_abba)\n",
    "\n",
    "tmp = 2 * vt_abaa - vt_abaa.swapaxes(2, 3)\n",
    "Exch100 += np.einsum('Ab,abaA', s_ab, tmp)\n",
    "\n",
    "tmp = 2 * vt_abbb - vt_abbb.swapaxes(2, 3)\n",
    "Exch100 += np.einsum('Ba,abBb', s_ab.T, tmp)\n",
    "\n",
    "Exch100 -= 2 * np.einsum('Ab,BA,abaB', s_ab, s_ab.T, vt_abab)\n",
    "Exch100 -= 2 * np.einsum('AB,Ba,abAb', s_ab, s_ab.T, vt_abab)\n",
    "Exch100 += np.einsum('Ab,Ba,abAB', s_ab, s_ab.T, vt_abab)\n",
    "\n",
    "Exch100 *= -2\n",
    "exch_timer.stop()\n",
    "### End E100 (S^2) Exchange\n",
    "\n"
   ]
  },
  {
   "cell_type": "markdown",
   "metadata": {},
   "source": [
    "# 4. Dispersion energy\n",
    "\n",
    "The SAPT0 dispersion energy $E^{(200)}_{\\rm disp}$ is given by the formula\n",
   "\n",
   "\\begin{equation}\n",
   "E^{(200)}_{\\rm disp}=4t^{rs}_{ab}v^{ab}_{rs}\n",
   "\\end{equation}\n",
   "\n",
   "where the *dispersion amplitude* $t^{rs}_{ab}$, representing a single excitation on A and a single excitation on B, involves a two-electron integral and an excitation energy denominator:\n",
   "\n",
   "\\begin{equation}\n",
   "t^{rs}_{ab}=\\frac{v_{ab}^{rs}}{\\epsilon_a+\\epsilon_b-\\epsilon_r-\\epsilon_s}\n",
   "\\end{equation}\n",
   "\n",
   "Note that for this particular type of integral $\\tilde{v}^{ab}_{rs}=v^{ab}_{rs}$: therefore, `sapt.v` instead of `sapt.vt` is used to prepare this tensor.\n"
   ]
  },
  {
   "cell_type": "code",
   "execution_count": null,
   "metadata": {
    "collapsed": false
   },
   "outputs": [],
   "source": [
    "### Start E200 Disp\n",
    "disp_timer = sapt_timer('dispersion')\n",
    "v_abrs = sapt.v('abrs')\n",
    "v_rsab = sapt.v('rsab')\n",
    "e_rsab = 1/(-sapt.eps('r', dim=4) - sapt.eps('s', dim=3) + sapt.eps('a', dim=2) + sapt.eps('b'))\n",
    "\n",
    "Disp200 = 4 * np.einsum('rsab,rsab,abrs->', e_rsab, v_rsab, v_abrs)\n",
    "### End E200 Disp\n",
    "\n"
   ]
  },
  {
   "cell_type": "markdown",
   "metadata": {},
   "source": [
    "# 5. Exchange dispersion energy\n",
    "\n",
    "Some of the formulas for the SAPT0 exchange-dispersion energy $E^{(200)}_{\\rm exch-disp}$ in the original papers contained errors. The corrected formula for this term is given by e.g. Eq. (10) of [Patkowski:2007]:\n",
    "\n",
    "\\begin{align}\n",
    "E^{(200)}_{\\rm exch-disp}=&-2t^{ab}_{rs}\\left[\\tilde{v}^{sr}_{ab}+S^s_a (2\\tilde{v}^{a'r}_{a'b}-\\tilde{v}^{ra'}_{a'b})+ S^s_{a'} (2\\tilde{v}^{ra'}_{ab}-\\tilde{v}^{a'r}_{ab})\\right.\\\\ &+ S^r_b (2\\tilde{v}^{sb'}_{ab'}-\\tilde{v}^{b's}_{ab'})+ S^r_{b'} (2\\tilde{v}^{b's}_{ab}-\\tilde{v}^{sb'}_{ab}) \\\\ &+S^{r}_{b} S^{b'}_{a'} \\tilde{v}^{a's}_{ab'}-2 S^{r}_{b'} S^{b'}_{a'} \\tilde{v}^{a's}_{ab}-2 S^{r}_{b} S^{b'}_{a} \\tilde{v}^{a's}_{a'b'}+4 S^{r}_{b'} S^{b'}_{a} \\tilde{v}^{a's}_{a'b} \\\\ &-2 S^{s}_{a} S^{a'}_{b} \\tilde{v}^{rb'}_{a'b'}+4 S^{s}_{a'} S^{a'}_{b} \\tilde{v}^{rb'}_{ab'}+ S^{s}_{a} S^{a'}_{b'} \\tilde{v}^{rb'}_{a'b}-2 S^{s}_{a'} S^{a'}_{b'} \\tilde{v}^{rb'}_{ab} \\\\ &+ S^{r}_{b'} S^{s}_{a'} \\tilde{v}^{a'b'}_{ab}-2 S^{r}_{b} S^{s}_{a'} \\tilde{v}^{a'b'}_{ab'}-2 S^{r}_{b'} S^{s}_{a} \\tilde{v}^{a'b'}_{a'b} \\\\ &\\left. + S^{a'}_{b} S^{b'}_{a} \\tilde{v}^{rs}_{a'b'}-2 S^{a'}_{b} S^{b'}_{a'} \\tilde{v}^{rs}_{ab'}-2 S^{a'}_{b'} S^{b'}_{a} \\tilde{v}^{rs}_{a'b}\\right]\n",
    "\\end{align}\n",
    "\n",
    "The corresponding Psi4NumPy code first recreates the dispersion amplitudes $t^{rs}_{ab}$ and then prepares the tensor `xd_absr` that is equal to the entire expression in brackets. The additional two intermediates `h_abrs` and `q_abrs` collect terms involving one and two overlap integrals, respectively.\n"
   ]
  },
  {
   "cell_type": "code",
   "execution_count": null,
   "metadata": {
    "collapsed": false
   },
   "outputs": [],
   "source": [
    "### Start E200 Exchange-Dispersion\n",
    "\n",
    "# Build t_rsab\n",
    "t_rsab = np.einsum('rsab,rsab->rsab', v_rsab, e_rsab)\n",
    "\n",
    "# Build h_abrs\n",
    "vt_abar = sapt.vt('abar')\n",
    "vt_abra = sapt.vt('abra')\n",
    "vt_absb = sapt.vt('absb')\n",
    "vt_abbs = sapt.vt('abbs')\n",
    "\n",
    "tmp = 2 * vt_abar - vt_abra.swapaxes(2, 3)\n",
    "h_abrs = np.einsum('as,AbAr->abrs', sapt.s('as'), tmp)\n",
    "\n",
    "tmp = 2 * vt_abra - vt_abar.swapaxes(2, 3)\n",
    "h_abrs += np.einsum('As,abrA->abrs', sapt.s('as'), tmp)\n",
    "\n",
    "tmp = 2 * vt_absb - vt_abbs.swapaxes(2, 3)\n",
    "h_abrs += np.einsum('br,aBsB->abrs', sapt.s('br'), tmp)\n",
    "\n",
    "tmp = 2 * vt_abbs - vt_absb.swapaxes(2, 3)\n",
    "h_abrs += np.einsum('Br,abBs->abrs', sapt.s('br'), tmp)\n",
    "\n",
    "# Build q_abrs\n",
    "vt_abas = sapt.vt('abas')\n",
    "q_abrs =      np.einsum('br,AB,aBAs->abrs', sapt.s('br'), sapt.s('ab'), vt_abas)\n",
    "q_abrs -= 2 * np.einsum('Br,AB,abAs->abrs', sapt.s('br'), sapt.s('ab'), vt_abas)\n",
    "q_abrs -= 2 * np.einsum('br,aB,ABAs->abrs', sapt.s('br'), sapt.s('ab'), vt_abas)\n",
    "q_abrs += 4 * np.einsum('Br,aB,AbAs->abrs', sapt.s('br'), sapt.s('ab'), vt_abas)\n",
    "\n",
    "vt_abrb = sapt.vt('abrb')\n",
    "q_abrs -= 2 * np.einsum('as,bA,ABrB->abrs', sapt.s('as'), sapt.s('ba'), vt_abrb)\n",
    "q_abrs += 4 * np.einsum('As,bA,aBrB->abrs', sapt.s('as'), sapt.s('ba'), vt_abrb)\n",
    "q_abrs +=     np.einsum('as,BA,AbrB->abrs', sapt.s('as'), sapt.s('ba'), vt_abrb)\n",
    "q_abrs -= 2 * np.einsum('As,BA,abrB->abrs', sapt.s('as'), sapt.s('ba'), vt_abrb)\n",
    "\n",
    "vt_abab = sapt.vt('abab')\n",
    "q_abrs +=     np.einsum('Br,As,abAB->abrs', sapt.s('br'), sapt.s('as'), vt_abab)\n",
    "q_abrs -= 2 * np.einsum('br,As,aBAB->abrs', sapt.s('br'), sapt.s('as'), vt_abab)\n",
    "q_abrs -= 2 * np.einsum('Br,as,AbAB->abrs', sapt.s('br'), sapt.s('as'), vt_abab)\n",
    "\n",
    "vt_abrs = sapt.vt('abrs')\n",
    "q_abrs +=     np.einsum('bA,aB,ABrs->abrs', sapt.s('ba'), sapt.s('ab'), vt_abrs)\n",
    "q_abrs -= 2 * np.einsum('bA,AB,aBrs->abrs', sapt.s('ba'), sapt.s('ab'), vt_abrs)\n",
    "q_abrs -= 2 * np.einsum('BA,aB,Abrs->abrs', sapt.s('ba'), sapt.s('ab'), vt_abrs)\n",
    "\n",
    "# Sum it all together\n",
    "xd_absr = sapt.vt('absr')\n",
    "xd_absr += h_abrs.swapaxes(2, 3)\n",
    "xd_absr += q_abrs.swapaxes(2, 3)\n",
    "ExchDisp20 = -2 * np.einsum('absr,rsab->', xd_absr, t_rsab)\n",
    "\n",
    "disp_timer.stop()\n",
    "### End E200 Exchange-Dispersion\n",
    "\n"
   ]
  },
  {
   "cell_type": "markdown",
   "metadata": {},
   "source": [
    "# 6. CPHF coefficients and induction energy\n",
    "\n",
    "As already mentioned, the induction and exchange-induction contributions to SAPT0 are calculated including the relaxation of one molecule's HF orbitals in the electrostatic potential generated by the other molecule. Mathematically, this relaxation is taken into account by computing the CPHF coefficients $C^a_r$ for monomer A [Caves:1969] that specify the linear response of the HF orbitals of A to the electrostatic potential $\\omega_{\\rm B}$ generated by the nuclei and electrons of the (unperturbed) monomer B and the analogous coefficients $C^b_s$ that describe the response of B to the electrostatic potential of A. The CPHF coefficients are computed by solving the system of equations\n",
    "\n",
   "\\begin{equation}\n",
   "(\\epsilon_r-\\epsilon_a)C^a_r+(2v^{ar'}_{ra'}-v^{r'a}_{ra'})C^{a'}_{r'}+(2v^{aa'}_{rr'}-v^{a'a}_{rr'})C^{r'}_{a'}=-2\\tilde{v}^{ab}_{rb}. \n",
   "\\end{equation}\n",
    "\n",
    "and similarly for monomer B. Once the CPHF coefficients are ready, the SAPT0 induction energy $E^{(200)}_{\\rm ind,resp}$ can be computed very easily:\n",
   "\n",
   "\\begin{equation}\n",
   "E^{(200)}_{\\rm ind,resp}=4\\tilde{v}^{rb}_{ab}C^a_r+4\\tilde{v}^{as}_{ab}C^b_s\n",
   "\\end{equation}\n",
   "\n",
    "The call to the `helper_SAPT` function `sapt.chf` generates the corresponding contribution to $E^{(200)}_{\\rm ind,resp}$ as a byproduct of the calculation of the CPHF coefficients $C^a_r$/$C^b_s$.\n"
   ]
  },
  {
   "cell_type": "code",
   "execution_count": null,
   "metadata": {
    "collapsed": false
   },
   "outputs": [],
   "source": [
    "\n",
    "### Start E200 Induction and Exchange-Induction\n",
    "\n",
    "# E200Induction and CPHF orbitals\n",
    "ind_timer = sapt_timer('induction')\n",
    "\n",
    "CPHF_ra, Ind20_ba = sapt.chf('B', ind=True)\n",
    "sapt_printer('Ind20,r (A<-B)', Ind20_ba)\n",
    "\n",
    "CPHF_sb, Ind20_ab = sapt.chf('A', ind=True)\n",
    "sapt_printer('Ind20,r (A->B)', Ind20_ab)\n",
    "\n",
    "Ind20r = Ind20_ba + Ind20_ab\n",
    "\n"
   ]
  },
  {
   "cell_type": "markdown",
   "metadata": {},
   "source": [
    "# 7. Exchange induction energy\n",
    "\n",
    "Just like for induction energy, the SAPT0 exchange-induction energy $E^{(200)}_{\\rm exch-ind,resp}$ decomposes into two parts describing the exchange quenching of the polarization of A by B and of the polarization of B by A:\n",
   "\n",
   "\\begin{equation}\n",
   "E^{(200)}_{\\rm exch-ind,resp}=E^{(200)}_{\\rm exch-ind,resp}({\\rm A}\\leftarrow{\\rm B})+E^{(200)}_{\\rm exch-ind,resp}({\\rm B}\\leftarrow{\\rm A})\n",
   "\\end{equation}\n",
   "\n",
   "Now, the formula for the A$\\leftarrow$B part is given e.g. by Eq. (5) of [Patkowski:2007]:\n",
    "\n",
    "\\begin{align}\n",
    "E^{(200)}_{\\rm exch-ind,resp}({\\rm A}\\leftarrow {\\rm B})=&-2 C^a_r \\left[\\tilde{v}^{br}_{ab}+2S^b_a\\tilde{v}^{a'r}_{a'b}+2S^b_{a'}\\tilde{v}^{ra'}_{ab}-S^b_a\\tilde{v}^{ra'}_{a'b}-S^b_{a'}\\tilde{v}^{a'r}_{ab}+2S^r_{b'}\\tilde{v}^{b'b}_{ab}\\right.\\\\ &-S^r_{b'}\\tilde{v}^{bb'}_{ab}-2S^b_a S^r_{b'}\\tilde{v}^{a'b'}_{a'b}-2S^b_{a'}S^{a'}_{b'}\\tilde{v}^{rb'}_{ab}-2S^{b'}_{a'}S^r_{b'}\\tilde{v}^{a'b}_{ab}-2S^{b'}_a S^{a'}_{b'}\\tilde{v}^{rb}_{a'b}\\\\ & \\left.+S^b_{a'}S^r_{b'}\\tilde{v}^{a'b'}_{ab}+S^b_a S^{a'}_{b'}\\tilde{v}^{rb'}_{a'b}\\right]\n",
    "\\end{align}\n",
    "\n",
    "and the corresponding formula for the B$\\leftarrow$A part is obtained by interchanging the symbols pertaining to A with those of B $(a\\leftrightarrow b,r\\leftrightarrow s)$ in the above expression. In this example, the CPHF coefficients $C^a_r$ and $C^b_s$ obtained in the previous section are combined with *dressed* two-electron integrals and overlap integrals to compute the $E^{(200)}_{\\rm exch-ind,resp}$ expression term by term.\n"
   ]
  },
  {
   "cell_type": "code",
   "execution_count": null,
   "metadata": {
    "collapsed": false
   },
   "outputs": [],
   "source": [
    "# Exchange-Induction\n",
    "\n",
    "# A <- B\n",
    "vt_abra = sapt.vt('abra')\n",
    "vt_abar = sapt.vt('abar')\n",
    "ExchInd20_ab  =     np.einsum('ra,abbr', CPHF_ra, sapt.vt('abbr'))\n",
    "ExchInd20_ab += 2 * np.einsum('rA,Ab,abar', CPHF_ra, sapt.s('ab'), vt_abar)\n",
    "ExchInd20_ab += 2 * np.einsum('ra,Ab,abrA', CPHF_ra, sapt.s('ab'), vt_abra)\n",
    "ExchInd20_ab -=     np.einsum('rA,Ab,abra', CPHF_ra, sapt.s('ab'), vt_abra)\n",
    "\n",
    "vt_abbb = sapt.vt('abbb')\n",
    "vt_abab = sapt.vt('abab')\n",
    "ExchInd20_ab -=     np.einsum('ra,Ab,abAr', CPHF_ra, sapt.s('ab'), vt_abar)\n",
    "ExchInd20_ab += 2 * np.einsum('ra,Br,abBb', CPHF_ra, sapt.s('br'), vt_abbb)\n",
    "ExchInd20_ab -=     np.einsum('ra,Br,abbB', CPHF_ra, sapt.s('br'), vt_abbb)\n",
    "ExchInd20_ab -= 2 * np.einsum('rA,Ab,Br,abaB', CPHF_ra, sapt.s('ab'), sapt.s('br'), vt_abab)\n",
    "\n",
    "vt_abrb = sapt.vt('abrb')\n",
    "ExchInd20_ab -= 2 * np.einsum('ra,Ab,BA,abrB', CPHF_ra, sapt.s('ab'), sapt.s('ba'), vt_abrb)\n",
    "ExchInd20_ab -= 2 * np.einsum('ra,AB,Br,abAb', CPHF_ra, sapt.s('ab'), sapt.s('br'), vt_abab)\n",
    "ExchInd20_ab -= 2 * np.einsum('rA,AB,Ba,abrb', CPHF_ra, sapt.s('ab'), sapt.s('ba'), vt_abrb)\n",
    "\n",
    "ExchInd20_ab +=     np.einsum('ra,Ab,Br,abAB', CPHF_ra, sapt.s('ab'), sapt.s('br'), vt_abab)\n",
    "ExchInd20_ab +=     np.einsum('rA,Ab,Ba,abrB', CPHF_ra, sapt.s('ab'), sapt.s('ba'), vt_abrb)\n",
    "\n",
    "ExchInd20_ab *= -2\n",
    "sapt_printer('Exch-Ind20,r (A<-B)', ExchInd20_ab)\n",
    "\n",
    "# B <- A\n",
    "vt_abbs = sapt.vt('abbs')\n",
    "vt_absb = sapt.vt('absb')\n",
    "ExchInd20_ba  =     np.einsum('sb,absa', CPHF_sb, sapt.vt('absa'))\n",
    "ExchInd20_ba += 2 * np.einsum('sB,Ba,absb', CPHF_sb, sapt.s('ba'), vt_absb)\n",
    "ExchInd20_ba += 2 * np.einsum('sb,Ba,abBs', CPHF_sb, sapt.s('ba'), vt_abbs)\n",
    "ExchInd20_ba -=     np.einsum('sB,Ba,abbs', CPHF_sb, sapt.s('ba'), vt_abbs)\n",
    "\n",
    "vt_abaa = sapt.vt('abaa')\n",
    "vt_abab = sapt.vt('abab')\n",
    "ExchInd20_ba -=     np.einsum('sb,Ba,absB', CPHF_sb, sapt.s('ba'), vt_absb)\n",
    "ExchInd20_ba += 2 * np.einsum('sb,As,abaA', CPHF_sb, sapt.s('as'), vt_abaa)\n",
    "ExchInd20_ba -=     np.einsum('sb,As,abAa', CPHF_sb, sapt.s('as'), vt_abaa)\n",
    "ExchInd20_ba -= 2 * np.einsum('sB,Ba,As,abAb', CPHF_sb, sapt.s('ba'), sapt.s('as'), vt_abab)\n",
    "\n",
    "vt_abas = sapt.vt('abas')\n",
    "ExchInd20_ba -= 2 * np.einsum('sb,Ba,AB,abAs', CPHF_sb, sapt.s('ba'), sapt.s('ab'), vt_abas)\n",
    "ExchInd20_ba -= 2 * np.einsum('sb,BA,As,abaB', CPHF_sb, sapt.s('ba'), sapt.s('as'), vt_abab)\n",
    "ExchInd20_ba -= 2 * np.einsum('sB,BA,Ab,abas', CPHF_sb, sapt.s('ba'), sapt.s('ab'), vt_abas)\n",
    "\n",
    "ExchInd20_ba +=     np.einsum('sb,Ba,As,abAB', CPHF_sb, sapt.s('ba'), sapt.s('as'), vt_abab)\n",
    "ExchInd20_ba +=     np.einsum('sB,Ba,Ab,abAs', CPHF_sb, sapt.s('ba'), sapt.s('ab'), vt_abas)\n",
    "\n",
    "ExchInd20_ba *= -2\n",
    "sapt_printer('Exch-Ind20,r (A->B)', ExchInd20_ba)\n",
    "ExchInd20r = ExchInd20_ba + ExchInd20_ab\n",
    "\n",
    "ind_timer.stop()\n",
    "### End E200 Induction and Exchange-Induction\n",
    "\n"
   ]
  },
  {
   "cell_type": "markdown",
   "metadata": {},
   "source": [
    "# 8. Summary table\n",
    "\n",
    "All the SAPT0 interaction energy contributions have been calculated. All that is left to do is to print out the contributions and the total energy, and to compare the results with the SAPT0 corrections calculated directly by Psi4.\n"
   ]
  },
  {
   "cell_type": "code",
   "execution_count": null,
   "metadata": {
    "collapsed": false
   },
   "outputs": [],
   "source": [
    "print('SAPT0 Results')\n",
    "print('-' * 70)\n",
    "sapt_printer('Exch10 (S^2)', Exch100)\n",
    "sapt_printer('Elst10', Elst10)\n",
    "sapt_printer('Disp20', Disp200)\n",
    "sapt_printer('Exch-Disp20', ExchDisp20)\n",
    "sapt_printer('Ind20,r', Ind20r)\n",
    "sapt_printer('Exch-Ind20,r', ExchInd20r)\n",
    "\n",
    "print('-' * 70)\n",
    "sapt0 = Exch100 + Elst10 + Disp200 + ExchDisp20 + Ind20r + ExchInd20r\n",
    "sapt_printer('Total SAPT0', sapt0)\n",
    "\n",
    "# ==> Compare to Psi4 <==\n",
    "psi4.set_options({'df_basis_sapt':'aug-cc-pvtz-ri'})\n",
    "psi4.energy('sapt0')\n",
    "Eelst = psi4.get_variable('SAPT ELST ENERGY')\n",
    "Eexch = psi4.get_variable('SAPT EXCH10(S^2) ENERGY')\n",
    "Eind  = psi4.get_variable('SAPT IND20,R ENERGY')\n",
    "Eexind  = psi4.get_variable('SAPT EXCH-IND20,R ENERGY')\n",
    "Edisp  = psi4.get_variable('SAPT DISP20 ENERGY')\n",
    "Eexdisp  = psi4.get_variable('SAPT EXCH-DISP20 ENERGY')\n",
    "psi4.compare_values(Eelst, Elst10, 6, 'Elst100')\n",
    "psi4.compare_values(Eexch, Exch100, 6, 'Exch100(S^2)')\n",
    "psi4.compare_values(Edisp, Disp200, 6, 'Disp200')\n",
    "psi4.compare_values(Eexdisp, ExchDisp20, 6, 'Exch-Disp200')\n",
    "psi4.compare_values(Eind, Ind20r, 6, 'Ind200,r')\n",
    "psi4.compare_values(Eexind, ExchInd20r, 6, 'Exch-Ind200,r')\n",
    "\n"
   ]
  },
  {
   "cell_type": "markdown",
   "metadata": {
    "collapsed": true
   },
   "source": [
    "## References\n",
    "\n",
    "1. The classic review paper on SAPT: \"Perturbation Theory Approach to Intermolecular Potential Energy Surfaces of van der Waals Complexes\"\n",
    "\t> [[Jeziorski:1994](http://pubs.acs.org/doi/abs/10.1021/cr00031a008)] B. Jeziorski, R. Moszynski, and K. Szalewicz, *Chem. Rev.* **94**, 1887 (1994)\n",
    "2. The definitions and practical comparison of different levels of SAPT: \"Levels of symmetry adapted perturbation theory (SAPT). I. Efficiency and performance for interaction energies\"\n",
    "\t> [[Parker:2014](http://aip.scitation.org/doi/10.1063/1.4867135)] T. M. Parker, L. A. Burns, R. M. Parrish, A. G. Ryno, and C. D. Sherrill, *J. Chem. Phys.* **140**, 094106 (2014)\n",
    "3. Second-order SAPT exchange corrections without the $S^2$ approximation: \"Single-determinant-based symmetry-adapted perturbation theory without single-exchange approximation\"\n",
    "\t> [[Schaffer:2013](http://www.tandfonline.com/doi/abs/10.1080/00268976.2013.827253)] R. Schäffer and G. Jansen, *Mol. Phys.* **111**, 2570 (2013)\n",
    "4. Alternative, second-quantization based approach to SAPT exchange corrections: \"Many‐body theory of exchange effects in intermolecular interactions. Second‐quantization approach and comparison with full configuration interaction results\"\n",
    "\t> [[Moszynski:1994a](http://aip.scitation.org/doi/abs/10.1063/1.466661)] R. Moszynski, B. Jeziorski, and K. Szalewicz, *J. Chem. Phys.* **100**, 1312 (1994)\n",
    "5. The density-matrix formalism for SAPT exchange corrections employed in this work: \"Many‐body theory of exchange effects in intermolecular interactions. Density matrix approach and applications to He–F$^−$, He–HF, H$_2$–HF, and Ar–H$_2$ dimers\"\n",
    "\t> [[Moszynski:1994b](http://aip.scitation.org/doi/abs/10.1063/1.467225)] R. Moszynski, B. Jeziorski, S. Rybak, K. Szalewicz, and H. L. Williams, *J. Chem. Phys.* **100**, 5080 (1994)\n",
    "6. A classic paper with derivations of many SAPT corrections: \"Many‐body symmetry‐adapted perturbation theory of intermolecular interactions. H$_2$O and HF dimers\"\n",
    "\t> [[Rybak:1991](http://aip.scitation.org/doi/abs/10.1063/1.461528)] S. Rybak, B. Jeziorski, and K. Szalewicz, *J. Chem. Phys.* **95**, 6576 (1991)\n",
    "7. A paper about the frozen-core approximation in SAPT, containing the corrected formula for the exchange dispersion energy: \"Frozen core and effective core potentials in symmetry-adapted perturbation theory\"\n",
    "\t> [[Patkowski:2007](http://aip.scitation.org/doi/10.1063/1.2784391)] K. Patkowski and K. Szalewicz, *J. Chem. Phys.* **127**, 164103 (2007)\n",
    "8. A classic paper about the CPHF equations: \"Perturbed Hartree–Fock Theory. I. Diagrammatic Double‐Perturbation Analysis\"\n",
    "\t> [[Caves:1969](http://aip.scitation.org/doi/abs/10.1063/1.1671609)] T. C. Caves and M. Karplus, *J. Chem. Phys.* **50**, 3649 (1969)\n"
   ]
  },
  {
   "cell_type": "code",
   "execution_count": null,
   "metadata": {
    "collapsed": true
   },
   "outputs": [],
   "source": []
  }
 ],
 "metadata": {
  "anaconda-cloud": {},
  "kernelspec": {
   "display_name": "Python 2",
   "language": "python",
   "name": "python2"
  },
  "language_info": {
   "codemirror_mode": {
    "name": "ipython",
    "version": 2
   },
   "file_extension": ".py",
   "mimetype": "text/x-python",
   "name": "python",
   "nbconvert_exporter": "python",
   "pygments_lexer": "ipython2",
   "version": "2.7.13"
  },
  "latex_envs": {
   "LaTeX_envs_menu_present": true,
   "bibliofile": "biblio.bib",
   "cite_by": "apalike",
   "current_citInitial": 1,
   "eqLabelWithNumbers": true,
   "eqNumInitial": 1,
   "labels_anchors": false,
   "latex_user_defs": false,
   "report_style_numbering": false,
   "user_envs_cfg": false
  }
 },
 "nbformat": 4,
 "nbformat_minor": 0
}
