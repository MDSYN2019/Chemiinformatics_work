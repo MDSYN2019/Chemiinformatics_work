{
 "cells": [
  {
   "cell_type": "code",
   "execution_count": null,
   "metadata": {
    "collapsed": true
   },
   "outputs": [],
   "source": [
    "\"\"\"Tutorial: Symmetry-Adapted Perturbation Theory (SAPT0)\"\"\"\n",
    "\n",
    "__author__    = [\"Daniel G. A. Smith\", \"Konrad Patkowski\"]\n",
    "__credit__    = [\"Daniel G. A. Smith\", \"Konrad Patkowski\"]\n",
    "\n",
    "__copyright__ = \"(c) 2014-2018, The Psi4NumPy Developers\"\n",
    "__license__   = \"BSD-3-Clause\"\n",
    "__date__      = \"2017-06-24\""
   ]
  },
  {
   "cell_type": "markdown",
   "metadata": {},
   "source": [
    "# Symmetry-Adapted Perturbation Theory in Atomic Orbitals (SAPT0-AO)\n",
    "\n",
    "In this tutorial, we revisit the SAPT0 calculation of interaction energy in the water dimer from the previous example. If you have not yet examined the introductory SAPT0 tutorial, this example might be very confusing.\n",
    "The new element here is that all exchange corrections $E^{(100)}_{\\rm exch}$, $E^{(200)}_{\\rm exch-ind,resp}$, and $E^{(200)}_{\\rm exch-disp}$, as well as the electrostatic energy $E^{(100)}_{\\rm elst}$, are computed in the atomic-orbital (AO) basis rather than the conventional molecular-orbital (MO) one. This should not affect the results at all: in fact, we expect exactly the same numerical answers as in the previous example (note that we are using exactly the same level of theory, including the $S^2$ approximation in all exchange corrections).\n",
    "Why recast the SAPT0 expressions from MOs into AOs? The reasons we give here explain why the AO-based formalism has the *potential* to be more computationally efficient. It does not mean that the AO approach as implemented in this example is already more efficient than the MO one - in general, it is not! (Not that it really matters as this example takes just a few seconds to run).\n",
    "1. There is no need for computing and storing all different kinds of SAPT0 integrals in the MO basis. In this specific example, the only MO integrals needed are the ones required for the dispersion amplitudes $t^{rs}_{ab}$ and CPHF coefficients (relaxed induction amplitudes) $C^r_a$,$C^s_b$, that is, the quantities involving excitation energy denominators. Once formed, these amplitudes will be back-transformed into the AO basis.\n", 
    "2. Most of the tensor contractions involving two-electron integrals (naturally, these are the most expensive contractions present) can be formulated in the language of *generalized Coulomb and exchange (JK) operators* (see below). In fact, the entire $E^{(100)}_{\\rm exch}$ and $E^{(200)}_{\\rm exch-ind,resp}$ terms can be implemented in this way (but not $E^{(200)}_{\\rm exch-disp}$). The developers of Psi4 have put a lot of effort into optimizing the computation of generalized JK matrices and, as a rule of thumb, if your Psi4 algorithm can utilize generalized JK matrices, it will be a very good idea to do so.\n",
    "3. The AO algorithm can maximize the computational savings when density-fitted integrals and intermediates are employed (however, this specific example does not use any density fitting).\n",
    "\n",
    "The original formulation of SAPT involves only MOs, and the AO formulation is not very well documented in the SAPT literature. Therefore, we will explicitly list all the formulas for the SAPT0 corrections computed below - some of these expressions are nowhere to be found in the published papers! A limited set of AO expressions for closed-shell SAPT0 is given in [Hesselmann:2005], and the analogous formulas for open-shell, UHF-based SAPT were first reported in [Hapka:2012]. A corrected and extended set of AO SAPT(UHF) expressions can be found in the supplementary material to [Gonthier:2016], however, even this reference does not have everything that we need (the exchange-dispersion energy is only formulated with density fitting). Therefore, please pay close attention to the expressions that need to be implemented.\n"
   ]
  },
  {
   "cell_type": "code",
   "execution_count": null,
   "metadata": {
    "collapsed": false
   },
   "outputs": [],
   "source": [
    "# A simple Psi 4 input script to compute SAPT interaction energies\n",
    "# All exchange corrections are computed using AO algorithms\n",
    "#\n",
    "# Created by: Konrad Patkowski\n",
    "# Helper routines by: Daniel G. A. Smith\n",
    "# Date: 6/8/17\n",
    "# License: GPL v3.0\n",
    "#\n",
    "\n",
    "import time\n",
    "import numpy as np\n",
    "from helper_SAPT import *\n",
    "np.set_printoptions(precision=5, linewidth=200, threshold=2000, suppress=True)\n",
    "import psi4\n",
    "\n",
    "# Set Psi4 & NumPy Memory Options\n",
    "psi4.set_memory('2 GB')\n",
    "psi4.core.set_output_file('output.dat', False)\n",
    "\n",
    "numpy_memory = 2\n",
    "\n",
    "# Set molecule to dimer\n",
    "dimer = psi4.geometry(\"\"\"\n",
    "O   -0.066999140   0.000000000   1.494354740\n",
    "H    0.815734270   0.000000000   1.865866390\n",
    "H    0.068855100   0.000000000   0.539142770\n",
    "--\n",
    "O    0.062547750   0.000000000  -1.422632080\n",
    "H   -0.406965400  -0.760178410  -1.771744500\n",
    "H   -0.406965400   0.760178410  -1.771744500\n",
    "symmetry c1\n",
    "\"\"\")\n",
    "\n",
    "psi4.set_options({'basis': 'jun-cc-pVDZ',\n",
    "                  'e_convergence': 1e-8,\n",
    "                  'd_convergence': 1e-8})\n",
    "\n",
    "sapt = helper_SAPT(dimer, memory=8, algorithm='AO')\n"
   ]
  },
  {
   "cell_type": "markdown",
   "metadata": {},
   "source": [
    "# 1. Preparation of the matrix elements\n",
    "\n",
    "Note that, similar to the previous example, we have performed HF calculations for both monomers and initialized the pertinent integrals and intermediates via a call to `helper_SAPT`. This time, we set the additional optional parameter `algorithm` to `'AO'` (the default is `'MO'`) so that the generalized JK matrix calculations are set up and ready to go.\n",
   "\n",
   "It is now time to prepare AO-based intermediates and introduce the pertinent notation. With the capital letters $K,L,\\ldots$ denoting the AO basis (for simplicity, we assume that this basis is the same for monomers A and B), the matrix $C_{Ka}$ (`Ci`) denotes the SCF vectors for the occupied orbitals on A, and matrices `Cj`, `Cr`, and `Cs` collect the similar vectors for occupied orbitals on B, virtual orbitals on A, and virtual orbitals on B, respectively. The quantity $P^{\\rm A}_{KL}=C_{Ka}C_{La}$ (denoted in the code by `Pi`) is one half of the monomer-A density matrix in the AO basis: similarly, $P^{\\rm B}$ (`Pj`) is one half of the AO density matrix for monomer B. `S` denotes the overlap matrix in the AO basis, and `I` is the two-electron integral matrix $(KL|MN)$ (in the (11|22) index order) taken straight from `mints.ao_eri()`.\n",
   "The key intermediates in AO-based SAPT, the generalized Coulomb and exchange matrices, exhibit highly inconsistent notation in the SAPT literature. The definitions from [Hesselmann:2005] and [Hapka:2012] differ by a factor of 2: we will follow [Hapka:2012] and define these matrices as\n",
   "\n",
   "\\begin{equation}\n",
   "{J}[{X}]_{KL} = (KL|MN) {X}_{MN}\n",
   "\\end{equation}\n",
   "\n",
   "\\begin{equation}\n",
   "{K}[{X}]_{KL} = (KM|NL) {X}_{MN}\n",
   "\\end{equation}\n",
   "\n",
   "An alternative definition is employed in [Gonthier:2016] and involves an explicit summation over occupied orbitals (therefore, we have to specify explicitly the monomer A or B). The generalized JK matrices defined in this way (for any two matrices $A$,$B$) will be denoted by $\\bar{J}$ and $\\bar{K}$, respectively:\n",
   "\n",
   "\\begin{equation}\n",
   "\\bar{J}^{\\rm A}[{A,B}]_{KL} = (KL|MN) {A}_{Ma}{B}_{Na} \n",
   "\\end{equation}\n",
   "\n",
   "\\begin{equation}\n",
   "\\bar{K}^{\\rm A}[{A,B}]_{KL} = (KM|NL) {A}_{Ma}{B}_{Na} \n",
   "\\end{equation}\n",
   "\n",
   "and the monomer-B quantities $\\bar{J}^{\\rm B}[{A,B}]$ and $\\bar{K}^{\\rm B}[{A,B}]$ are defined with the summation over $a$ replaced by the one over $b$. The generalized JK matrices in either notation reduce to the ordinary JK matrices as follows:\n",
   "\n",
   "\\begin{equation}\n",
   "J^{\\rm A}\\equiv J[P^{\\rm A}]\\equiv \\bar{J}^{\\rm A}[Ci,Ci] \n",
   "\\end{equation}\n",
   "\n",
   "and the same for $K$. Going back to the notation of [Hapka:2012], the intermediates needed for SAPT-AO are both standard JK matrices for both monomers `(Jii, Kii, Jjj, Kjj)` and generalized matrices $J[P^{\\rm A}S P^{\\rm B}]$, $K[P^{\\rm A}S P^{\\rm B}]$ `(Jij,Kij)`. Note that $J[P^{\\rm B}S P^{\\rm A}]=J[P^{\\rm A}S P^{\\rm B}]$ and $K[P^{\\rm B}S P^{\\rm A}]=K[P^{\\rm A}S P^{\\rm B}]^T$, so it is sufficient to generate the JK matrices for just one of these two operators.\n",
   "The last intermediates that we need are the matrices of the monomer electrostatic potential $\\omega^{\\rm X}=v^{\\rm X}+2J^{\\rm X}$ and of the complete monomer Fock operator $F^{\\rm X}=v^{\\rm X}+2J^{\\rm X}-K^{\\rm X}$ for X=A,B, where $v^{\\rm X}$ is the matrix of the nuclear attraction operator. In the code below, these matrices are stored as `w_A, w_B, h_A, h_B`.\n"
   ]
  },
  {
   "cell_type": "code",
   "execution_count": null,
   "metadata": {
    "collapsed": false
   },
   "outputs": [],
   "source": [
"# Build intermediates\n",
"int_timer = sapt_timer('intermediates')\n",
"Pi = np.dot(sapt.orbitals['a'], sapt.orbitals['a'].T)\n",
"Pj = np.dot(sapt.orbitals['b'], sapt.orbitals['b'].T)\n",
"\n",
"S = sapt.S\n",
"num_el_A = (2 * sapt.ndocc_A)\n",
"num_el_B = (2 * sapt.ndocc_B)\n",
"\n",
"Ci = sapt.orbitals['a']\n",
"Cj = sapt.orbitals['b']\n",
"Cr = sapt.orbitals['r']\n",
"Cs = sapt.orbitals['s']\n",
"\n",
"I = np.asarray(sapt.mints.ao_eri())\n",
"\n",
"Jii, Kii = sapt.compute_sapt_JK(Ci, Ci)\n",
"Jjj, Kjj = sapt.compute_sapt_JK(Cj, Cj)\n",
"\n",
"Jij, Kij = sapt.compute_sapt_JK(Ci, Cj, tensor=sapt.chain_dot(Ci.T, S, Cj))\n",
"\n",
"w_A = sapt.V_A + 2 * Jii\n", 
"w_B = sapt.V_B + 2 * Jjj\n",
"\n",
"h_A = sapt.V_A + 2 * Jii - Kii\n", 
"h_B = sapt.V_B + 2 * Jjj - Kjj\n", 
"\n",
"int_timer.stop()\n",
"\n"
   ]
  },
  {
   "cell_type": "markdown",
   "metadata": {},
   "source": [
    "# 2. Electrostatic energy\n",
    "\n",
    "In the AO formalism, the SAPT0 electrostatic energy $E^{(100)}_{\\rm elst}$ is given by\n",
   "\n",
   "\\begin{equation}\n",
   "E^{(100)}_{\\rm elst}=4P^{\\rm A}\\cdot J^{\\rm B} + 2P^{\\rm A}\\cdot v^{\\rm B} + 2P^{\\rm B}\\cdot v^{\\rm A} + V_{\\rm nuc},\n",
   "\\end{equation}\n",
   "\n",
   "where $V_{\\rm nuc}$ is the intermolecular nuclear repulsion energy. We define the dot-product notation for two matrices as follows,\n",
   "\n",
   "\\begin{equation}\n",
   "A\\cdot B = A_{KL}B_{KL}\n",
   "\\end{equation}\n",
   "\n"
   ]
  },
  {
   "cell_type": "code",
   "execution_count": null,
   "metadata": {
    "collapsed": false
   },
   "outputs": [],
   "source": [
"### Build electrostatics\n",
"elst_timer = sapt_timer('electrostatics')\n",
"two_el = 2 * np.vdot(Pi, Jjj)\n",
"att_a = np.vdot(sapt.V_A, Pj)\n",
"att_b = np.vdot(sapt.V_B, Pi)\n",
"rep = sapt.nuc_rep\n", 
"elst_ijij = 2 * (two_el + att_a + att_b) + rep\n",
"\n",
"Elst10 = elst_ijij\n",
"sapt_printer('Elst10', Elst10)\n",
"elst_timer.stop()\n",
"### End electrostatics\n",
"\n"
   ]
  },
  {
   "cell_type": "markdown",
   "metadata": {},
   "source": [
    "# 3. First-order exchange energy\n",
    "\n",
    "The SAPT0 first-order exchange energy $E^{(100)}_{\\rm exch}$ within the $S^2$ approximation and the density matrix formalism [Moszynski:1994b] can be recast into AOs as follows,\n",
    "\n",
    "\\begin{align}\n",
    "E^{(100)}_{\\rm exch}=&- 2P^{\\rm B}\\cdot K^{\\rm A} -2 (P^{\\rm A}SP^{\\rm B})\\cdot (F^{\\rm A}+F^{\\rm B})\\\\ & +2 (P^{\\rm B}SP^{\\rm A}SP^{\\rm B})\\cdot \\omega^{\\rm A}+2 (P^{\\rm A}SP^{\\rm B}SP^{\\rm A})\\cdot \\omega^{\\rm B}\\\\ &-2 (P^{\\rm A}SP^{\\rm B})\\cdot K[P^{\\rm A}SP^{\\rm B}]\n", 
    "\\end{align}\n",
    "\n",
    "In the implementation below, the `sapt.chain_dot()` call is nothing more than a multiplication of a chain of matrices - a series of `np.dot()` calls.\n" 
   ]
  },
  {
   "cell_type": "code",
   "execution_count": null,
   "metadata": {
    "collapsed": false
   },
   "outputs": [],
   "source": [
"### Start exchange\n",
"exch_timer = sapt_timer('exchange')\n",
"exch = 0\n",
"exch -= 2 * np.vdot(Pj, Kii)\n",
"exch -= 2 * np.vdot(sapt.chain_dot(Pi, S, Pj), (h_A + h_B))\n",
"\n",
"exch += 2 * np.vdot(sapt.chain_dot(Pj, S, Pi, S, Pj), w_A)\n",
"exch += 2 * np.vdot(sapt.chain_dot(Pi, S, Pj, S, Pi), w_B)\n",
"\n",
"exch -= 2 * np.vdot(sapt.chain_dot(Pi, S, Pj), Kij)\n",
"\n",
"Exch100 = exch\n",
"sapt_printer('Exch10(S^2)', Exch100)\n",
"exch_timer.stop()\n",
"### End E100 (S^2) Exchange\n",
"\n"
   ]
  },
  {
   "cell_type": "markdown",
   "metadata": {},
   "source": [
    "# 4. Dispersion energy\n",
    "\n",
    "As the SAPT0 dispersion energy $E^{(200)}_{\\rm disp}$ involves an energy denominator, it is calculated in the MO formalism in exactly the same way as in the previous example:\n",
   "\n",
   "\\begin{equation}\n",
   "E^{(200)}_{\\rm disp}=4t^{rs}_{ab}v^{ab}_{rs}\\;\\;\\;\\;\\;\\; t^{rs}_{ab}=\\frac{v_{ab}^{rs}}{\\epsilon_a+\\epsilon_b-\\epsilon_r-\\epsilon_s}\n",
   "\\end{equation}\n",
   "\n"
   ]
  },
  {
   "cell_type": "code",
   "execution_count": null,
   "metadata": {
    "collapsed": false
   },
   "outputs": [],
   "source": [
    "### Start E200 Disp\n",
    "disp_timer = sapt_timer('dispersion')\n",
    "v_abrs = sapt.v('abrs')\n",
    "v_rsab = sapt.v('rsab')\n",
    "e_rsab = 1/(-sapt.eps('r', dim=4) - sapt.eps('s', dim=3) + sapt.eps('a', dim=2) + sapt.eps('b'))\n",
    "\n",
    "Disp200 = 4 * np.einsum('rsab,rsab,abrs->', e_rsab, v_rsab, v_abrs)\n",
    "sapt_printer('Disp20', Disp200)\n",
    "### End E200 Disp\n",
    "\n"
   ]
  },
  {
   "cell_type": "markdown",
   "metadata": {},
   "source": [
    "# 5. Exchange dispersion energy\n",
    "\n",
    "In order to compute the SAPT0 exchange-dispersion energy $E^{(200)}_{\\rm exch-disp}$ using AO-based quantities, the dispersion amplitude $t^{rs}_{ab}$ needs to be backtransformed into the AO basis. Note that the resulting AO amplitude has no index symmetry whatsoever.\n",
    "\n",
    "\\begin{equation}\n",
    "t_{KM}^{LN}=t_{ab}^{rs} C_{Ka} C_{Mb} C_{Lr} C_{Ns}\n",
    "\\end{equation}\n",
    "\n",
    "The SAPT0-AO exchange dispersion energy is now given by\n",
    "\n",
    "\\begin{align}\n",
    "E^{(200)}_{\\rm exch-disp} = & t_{KM}^{LN} \\left[-2 (KN|ML)-2 S_{KN} (F^{\\rm A})_{ML}-2 S_{ML} (F^{\\rm B})_{KN} \\right. \\\\ &\n",
    "-4 (KL|MQ) (SP^{\\rm A})_{NQ}+2 (ML|KQ) (SP^{\\rm A})_{NQ}-4 (MN|KQ) (SP^{\\rm B})_{LQ}+2 (KN|MQ) (SP^{\\rm B})_{LQ} \\\\ &\n",
    "-4 (\\omega^{\\rm A})_{MN} (SP^{\\rm B}S)_{KL}+2 S_{KN} (\\omega^{\\rm A} P^{\\rm B}S)_{ML}+2 S_{ML} (\\omega^{\\rm A} P^{\\rm B}S)_{NK} \\\\ &\n",
    "-4 (\\omega^{\\rm B})_{KL} (SP^{\\rm A}S)_{MN}+2 S_{ML} (\\omega^{\\rm B} P^{\\rm A}S)_{KN}+2 S_{KN} (\\omega^{\\rm B} P^{\\rm A}S)_{LM} \\\\ &\n",
    "+4 (KQ|MN) (SP^{\\rm B}SP^{\\rm A})_{LQ}+4 (PL|MN) (SP^{\\rm B}SP^{\\rm A})_{KP}+4 (KL|MS) (SP^{\\rm A}SP^{\\rm B})_{NS}+4 (KL|RN) (SP^{\\rm A}SP^{\\rm B})_{MR} \\\\ &\n",
    "\\left. -2 S_{KN} K[P^{\\rm B}SP^{\\rm A}]_{ML}-2 S_{ML} K[P^{\\rm B}SP^{\\rm A}]_{NK}-2 (MS|KQ) (SP^{\\rm B})_{LS} (SP^{\\rm A})_{NQ}-2 (NR|LP) (SP^{\\rm B})_{KR} (SP^{\\rm A})_{MP}\\right] \n",
    "\\end{align}\n",
    "\n"
   ]
  },
  {
   "cell_type": "code",
   "execution_count": null,
   "metadata": {
    "collapsed": false
   },
   "outputs": [],
   "source": [
    "### Start E200 Exchange-Dispersion\n",
    "\n",
    "# Build t_rsab\n",
    "t_rsab = np.einsum('rsab,rsab->rsab', v_rsab, e_rsab)\n",
    "\n",
"#backtransform t_rsab to the AO basis\n",
"t_lsab = np.einsum('rsab,rl->lsab', t_rsab, Cr.T)\n",
"t_lnab = np.einsum('lsab,sn->lnab', t_lsab, Cs.T)\n",
"t_lnkb = np.einsum('lnab,ak->lnkb', t_lnab, Ci.T)\n",
"t_lnkm = np.einsum('lnkb,bm->lnkm', t_lnkb, Cj.T)\n",
"\n",
"ExchDisp20 = - 2 * np.einsum('lnkm,knml->', t_lnkm, I)\n",
"\n",
"ExchDisp20 -= 2 * np.einsum('lnkm,ml,kn->', t_lnkm, h_A, S)\n", 
"ExchDisp20 -= 2 * np.einsum('lnkm,ml,kn->', t_lnkm, S, h_B)\n",
"\n",
"interm = 2 * np.einsum('klmq,nq->klmn', I, np.dot(S, Pi))\n", 
"ExchDisp20 -= 2 * np.einsum('lnkm,klmn->', t_lnkm, interm)\n", 
"ExchDisp20 += np.einsum('lnkm,mlkn->', t_lnkm, interm)\n", 
"\n",
"interm = 2 * np.einsum('klmq,nq->klmn', I, np.dot(S, Pj))\n", 
"ExchDisp20 -= 2 * np.einsum('lnkm,mnkl->', t_lnkm, interm)\n", 
"ExchDisp20 += np.einsum('lnkm,knml->', t_lnkm, interm)\n", 
"\n",
"ExchDisp20 -= 4 * np.einsum('lnkm,mn,kl->', t_lnkm, w_A, sapt.chain_dot(S, Pj, S))\n",
"ExchDisp20 += 2 * np.einsum('lnkm,kn,ml->', t_lnkm, S, sapt.chain_dot(w_A, Pj, S))\n",
"ExchDisp20 += 2 * np.einsum('lnkm,ml,nk->', t_lnkm, S, sapt.chain_dot(w_A, Pj, S))\n",
"\n",
"ExchDisp20 -= 4 * np.einsum('lnkm,kl,mn->', t_lnkm, w_B, sapt.chain_dot(S, Pi, S))\n",
"ExchDisp20 += 2 * np.einsum('lnkm,ml,kn->', t_lnkm, S, sapt.chain_dot(w_B, Pi, S))\n",
"ExchDisp20 += 2 * np.einsum('lnkm,kn,lm->', t_lnkm, S, sapt.chain_dot(w_B, Pi, S))\n",
"\n",
"spbspa = sapt.chain_dot(S, Pj, S, Pi)\n",
"spaspb = sapt.chain_dot(S, Pi, S, Pj)\n",
"interm = np.einsum('kqmn,lq->klmn', I, spbspa)\n",
"interm += np.einsum('plmn,kp->klmn', I, spbspa)\n",
"interm += np.einsum('klms,ns->klmn', I, spaspb)\n",
"interm += np.einsum('klrn,mr->klmn', I, spaspb)\n",
"ExchDisp20 += 4 * np.einsum('lnkm,klmn->', t_lnkm, interm)\n",
"\n",
"ExchDisp20 -= 2 * np.einsum('lnkm,kn,ml->', t_lnkm, S, Kij.T)\n",
"ExchDisp20 -= 2 * np.einsum('lnkm,ml,nk->', t_lnkm, S, Kij.T)\n", 
"\n",
"spa = np.dot(S, Pi)\n",
"spb = np.dot(S, Pj)\n",
"interm = np.einsum('kpmq,nq->kpmn', I, spa)\n",
"interm = np.einsum('kpmn,lp->klmn', interm, spb)\n",
"ExchDisp20 -= 2 * np.einsum('lnkm,mlkn->', t_lnkm, interm)\n",
"ExchDisp20 -= 2 * np.einsum('lnkm,nklm->', t_lnkm, interm)\n",
"\n",
"sapt_printer('Exch-Disp20', ExchDisp20)\n",
"disp_timer.stop()\n",
"### End E200 Exchange-Dispersion\n",
"\n"
   ]
  },
  {
   "cell_type": "markdown",
   "metadata": {},
   "source": [
    "# 6. CPHF coefficients and induction energy\n",
    "\n",
    "The monomer CPHF coefficients $C^a_r$, $C^b_s$ and the SAPT0 induction energy $E^{(200)}_{\\rm ind,resp}$ are computed in the MO formalism, identical to the previous example.\n",
   "\n",
   "\\begin{equation}\n",
   "E^{(200)}_{\\rm ind,resp}=4\\tilde{v}^{rb}_{ab}C^a_r+4\\tilde{v}^{as}_{ab}C^b_s\n",
   "\\end{equation}\n",
   "\n"
   ]
  },
  {
   "cell_type": "code",
   "execution_count": null,
   "metadata": {
    "collapsed": false
   },
   "outputs": [],
   "source": [
    "### Start E200 Induction and Exchange-Induction\n",
    "\n",
    "# E200Induction and CPHF orbitals\n",
    "ind_timer = sapt_timer('induction')\n",
    "\n",
    "CPHF_ra, Ind20_ba = sapt.chf('B', ind=True)\n",
    "sapt_printer('Ind20,r (A<-B)', Ind20_ba)\n",
    "\n",
    "CPHF_sb, Ind20_ab = sapt.chf('A', ind=True)\n",
    "sapt_printer('Ind20,r (A->B)', Ind20_ab)\n",
    "\n",
    "Ind20r = Ind20_ba + Ind20_ab\n",
    "\n"
   ]
  },
  {
   "cell_type": "markdown",
   "metadata": {},
   "source": [
    "# 7. Exchange induction energy\n",
    "\n",
    "We will present the AO formula for $E^{(200)}_{\\rm exch-ind,resp}({\\rm A}\\leftarrow {\\rm B})$; the corresponding formula for the B$\\leftarrow$A counterpart is obtained by interchanging the quantities (density matrices, JK matrices, $\\ldots$) pertaining to A with those of B. We first need to backtransform the CPHF coefficients to the AO basis:\n",
   "\n",
   "\\begin{equation}\n",
    "C^{\\rm CPHF}_{KL}=C^{a}_{r} C_{Ka} C_{Lr} \n",
   "\\end{equation}\n",
   "\n",
   "The formula for the A$\\leftarrow$B part of $E^{(200)}_{\\rm exch-ind,resp}$ now becomes\n",
    "\n",
    "\\begin{align}\n",
"E^{(200)}_{\\rm exch-ind,resp}({\\rm A}\\leftarrow {\\rm B})=& C^{\\rm CPHF}\\cdot\\left[ \n",
"-2 K^{\\rm B}-2 SP^{\\rm B}F^{\\rm A}-2 F^{\\rm B}P^{\\rm B}S-4 J[P^{\\rm B}SP^{\\rm A}] +2 K[P^{\\rm A}SP^{\\rm B}] \\right. \\\\ & \n",
"+2 \\omega^{\\rm B}P^{\\rm A}SP^{\\rm B}S+2 SP^{\\rm B}SP^{\\rm A}\\omega^{\\rm B}+2 SP^{\\rm B}\\omega^{\\rm A}P^{\\rm B}S \\\\ & \n",
"\\left. +4 J[P^{\\rm B}SP^{\\rm A}SP^{\\rm B}]-2 SP^{\\rm B}K[P^{\\rm B}SP^{\\rm A}]-2 K[P^{\\rm A}SP^{\\rm B}]P^{\\rm B}S\\right] \n",
    "\\end{align}\n",
    "\n",
    "Note that this correction requires one additional generalized Coulomb matrix, $J[P^{\\rm B}SP^{\\rm A}SP^{\\rm B}]$. In the code below, this matrix is computed and stored in the variable `Jjij`.\n"
   ]
  },
  {
   "cell_type": "code",
   "execution_count": null,
   "metadata": {
    "collapsed": false
   },
   "outputs": [],
   "source": [
"# Exchange-Induction\n",
"\n",
"# A <- B\n",
"CPHFA_ao = sapt.chain_dot(Ci, CPHF_ra.T, Cr.T)\n",
"ExchInd20_ab = -2 * np.vdot(CPHFA_ao, Kjj)\n",
"ExchInd20_ab -= 2 * np.vdot(CPHFA_ao, sapt.chain_dot(S, Pj, h_A))\n",
"ExchInd20_ab -= 2 * np.vdot(CPHFA_ao, sapt.chain_dot(h_B, Pj, S))\n",
"\n",
"ExchInd20_ab -= 4 * np.vdot(CPHFA_ao, Jij)\n",
"ExchInd20_ab += 2 * np.vdot(CPHFA_ao, Kij)\n",
"\n",
"ExchInd20_ab += 2 * np.vdot(CPHFA_ao, sapt.chain_dot(w_B, Pi, S, Pj, S))\n",
"ExchInd20_ab += 2 * np.vdot(CPHFA_ao, sapt.chain_dot(S, Pj, S, Pi, w_B))\n",
"ExchInd20_ab += 2 * np.vdot(CPHFA_ao, sapt.chain_dot(S, Pj, w_A, Pj, S))\n",
"\n",
"Jjij, Kjij = sapt.compute_sapt_JK(Cj, Cj, tensor=sapt.chain_dot(Cj.T, S, Pi, S, Cj))\n",
"\n",
"ExchInd20_ab += 4 * np.vdot(CPHFA_ao, Jjij)\n",
"ExchInd20_ab -= 2 * np.vdot(CPHFA_ao, sapt.chain_dot(S, Pj, Kij.T))\n",
"ExchInd20_ab -= 2 * np.vdot(CPHFA_ao, sapt.chain_dot(Kij, Pj, S))\n",
"\n",
"sapt_printer('Exch-Ind20,r (A<-B)', ExchInd20_ab)\n",
"\n",
"# B <- A\n",
"CPHFB_ao = sapt.chain_dot(Cj, CPHF_sb.T, Cs.T)\n",
"ExchInd20_ba = -2 * np.vdot(CPHFB_ao, Kii)\n",
"ExchInd20_ba -= 2 * np.vdot(CPHFB_ao, sapt.chain_dot(S, Pi, h_B))\n",
"ExchInd20_ba -= 2 * np.vdot(CPHFB_ao, sapt.chain_dot(h_A, Pi, S))\n",
"\n",
"ExchInd20_ba -= 4 * np.vdot(CPHFB_ao, Jij)\n",
"ExchInd20_ba += 2 * np.vdot(CPHFB_ao, Kij.T)\n",
"\n",
"ExchInd20_ba += 2 * np.vdot(CPHFB_ao, sapt.chain_dot(w_A, Pj, S, Pi, S))\n",
"ExchInd20_ba += 2 * np.vdot(CPHFB_ao, sapt.chain_dot(S, Pi, S, Pj, w_A))\n",
"ExchInd20_ba += 2 * np.vdot(CPHFB_ao, sapt.chain_dot(S, Pi, w_B, Pi, S))\n",
"\n",
"Jiji, Kiji = sapt.compute_sapt_JK(Ci, Ci, tensor=sapt.chain_dot(Ci.T, S, Pj, S, Ci))\n",
"\n",
"ExchInd20_ba += 4 * np.vdot(CPHFB_ao, Jiji)\n",
"ExchInd20_ba -= 2 * np.vdot(CPHFB_ao, sapt.chain_dot(S, Pi, Kij))\n",
"ExchInd20_ba -= 2 * np.vdot(CPHFB_ao, sapt.chain_dot(Kij.T, Pi, S))\n",
"\n",
"sapt_printer('Exch-Ind20,r (A->B)', ExchInd20_ba)\n",
"ExchInd20r = ExchInd20_ba + ExchInd20_ab\n",
"\n",
"ind_timer.stop()\n",
"### End E200 Induction and Exchange-Induction\n",
"\n"
   ]
  },
  {
   "cell_type": "markdown",
   "metadata": {},
   "source": [
    "# 8. Summary table\n",
    "\n",
    "All the SAPT0-AO interaction energy contributions have been calculated. All that is left to do is to print out the contributions and the total energy, and to compare the results with the SAPT0 corrections calculated directly by Psi4.\n"
   ]
  },
  {
   "cell_type": "code",
   "execution_count": null,
   "metadata": {
    "collapsed": false
   },
   "outputs": [],
   "source": [
    "print('SAPT0 Results')\n",
    "print('-' * 70)\n",
    "sapt_printer('Exch10 (S^2)', Exch100)\n",
    "sapt_printer('Elst10', Elst10)\n",
    "sapt_printer('Disp20', Disp200)\n",
    "sapt_printer('Exch-Disp20', ExchDisp20)\n",
    "sapt_printer('Ind20,r', Ind20r)\n",
    "sapt_printer('Exch-Ind20,r', ExchInd20r)\n",
    "\n",
    "print('-' * 70)\n",
    "sapt0 = Exch100 + Elst10 + Disp200 + ExchDisp20 + Ind20r + ExchInd20r\n",
    "sapt_printer('Total SAPT0', sapt0)\n",
    "\n",
    "# ==> Compare to Psi4 <==\n",
    "psi4.set_options({'df_basis_sapt':'aug-cc-pvtz-ri'})\n",
    "psi4.energy('sapt0')\n",
    "Eelst = psi4.get_variable('SAPT ELST ENERGY')\n",
    "Eexch = psi4.get_variable('SAPT EXCH10(S^2) ENERGY')\n",
    "Eind  = psi4.get_variable('SAPT IND20,R ENERGY')\n",
    "Eexind  = psi4.get_variable('SAPT EXCH-IND20,R ENERGY')\n",
    "Edisp  = psi4.get_variable('SAPT DISP20 ENERGY')\n",
    "Eexdisp  = psi4.get_variable('SAPT EXCH-DISP20 ENERGY')\n",
    "psi4.compare_values(Eelst, Elst10, 6, 'Elst100')\n",
    "psi4.compare_values(Eexch, Exch100, 6, 'Exch100(S^2)')\n",
    "psi4.compare_values(Edisp, Disp200, 6, 'Disp200')\n",
    "psi4.compare_values(Eexdisp, ExchDisp20, 6, 'Exch-Disp200')\n",
    "psi4.compare_values(Eind, Ind20r, 6, 'Ind200,r')\n",
    "psi4.compare_values(Eexind, ExchInd20r, 6, 'Exch-Ind200,r')\n",
    "\n"
   ]
  },
  {
   "cell_type": "markdown",
   "metadata": {
    "collapsed": true
   },
   "source": [
    "## References\n",
    "\n",
    "1. A paper that first formulated some SAPT0 and SAPT(DFT) corrections in AOs: \"Density-functional theory-symmetry-adapted intermolecular perturbation theory with density fitting: A new efficient method to study intermolecular interaction energies\"\n",
    "\t> [[Hesselmann:2005](http://aip.scitation.org/doi/abs/10.1063/1.1824898)] A. Heßelmann, G. Jansen, and M. Schütz, *J. Chem. Phys.* **122**, 014103 (2005)\n",
    "2. Introduction of the UHF-based open-shell SAPT (mostly in AOs): \"Symmetry-adapted perturbation theory based on unrestricted Kohn-Sham orbitals for high-spin open-shell van der Waals complexes\"\n",
    "\t> [[Hapka:2012](http://aip.scitation.org/doi/10.1063/1.4758455)] M. Hapka, P. S. Żuchowski, M. M. Szczęśniak, and G. Chałasiński, *J. Chem. Phys.* **137**, 164104 (2012)\n",
    "3. A new efficient implementation of SAPT(UHF) (and more AO formulas): \"Density-fitted open-shell symmetry-adapted perturbation theory and application to π-stacking in benzene dimer cation and ionized DNA base pair steps\"\n",
    "\t> [[Gonthier:2016](http://aip.scitation.org/doi/10.1063/1.4963385)] J. F. Gonthier and C. D. Sherrill, *J. Chem. Phys.* **145**, 134106  (2016)\n",
    "4. The density-matrix formalism for SAPT exchange corrections employed in this work: \"Many‐body theory of exchange effects in intermolecular interactions. Density matrix approach and applications to He–F$^−$, He–HF, H$_2$–HF, and Ar–H$_2$ dimers\"\n",
    "\t> [[Moszynski:1994b](http://aip.scitation.org/doi/abs/10.1063/1.467225)] R. Moszynski, B. Jeziorski, S. Rybak, K. Szalewicz, and H. L. Williams, *J. Chem. Phys.* **100**, 5080 (1994)\n"
   ]
  },
  {
   "cell_type": "code",
   "execution_count": null,
   "metadata": {
    "collapsed": true
   },
   "outputs": [],
   "source": []
  }
 ],
 "metadata": {
  "anaconda-cloud": {},
  "kernelspec": {
   "display_name": "Python 2",
   "language": "python",
   "name": "python2"
  },
  "language_info": {
   "codemirror_mode": {
    "name": "ipython",
    "version": 2
   },
   "file_extension": ".py",
   "mimetype": "text/x-python",
   "name": "python",
   "nbconvert_exporter": "python",
   "pygments_lexer": "ipython2",
   "version": "2.7.13"
  },
  "latex_envs": {
   "LaTeX_envs_menu_present": true,
   "bibliofile": "biblio.bib",
   "cite_by": "apalike",
   "current_citInitial": 1,
   "eqLabelWithNumbers": true,
   "eqNumInitial": 1,
   "labels_anchors": false,
   "latex_user_defs": false,
   "report_style_numbering": false,
   "user_envs_cfg": false
  }
 },
 "nbformat": 4,
 "nbformat_minor": 0
}
